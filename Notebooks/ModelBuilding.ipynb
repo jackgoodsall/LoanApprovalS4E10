{
 "cells": [
  {
   "cell_type": "markdown",
   "metadata": {},
   "source": [
    "# Model building / selection"
   ]
  },
  {
   "cell_type": "markdown",
   "metadata": {},
   "source": [
    "We will now look at building/selecting our models, as we have a classifcation task (predicting 0 or 1) we will compare a verity of classifcation algorithms like\n",
    "* Random Forest\n",
    "* Gradient boosting machines\n",
    "* Adaboost \n",
    "* Logistic regression\n",
    "\n",
    "and so on.\n",
    "\n",
    "As we are interested in roc_auc scores we will predict probabilities from our models."
   ]
  },
  {
   "cell_type": "code",
   "execution_count": 36,
   "metadata": {},
   "outputs": [],
   "source": [
    "from sklearn.ensemble import GradientBoostingClassifier, RandomForestClassifier, AdaBoostClassifier, BaggingClassifier\n",
    "from sklearn.neighbors import KNeighborsClassifier\n",
    "from sklearn.linear_model import LogisticRegression\n",
    "from sklearn.model_selection import StratifiedKFold, cross_val_score\n",
    "from sklearn.metrics import roc_auc_score, accuracy_score\n",
    "import xgboost as xgb\n",
    "import pandas as pd\n",
    "import matplotlib.pyplot as plt\n",
    "import numpy as np\n",
    "import seaborn as sn\n",
    "import warnings \n",
    "warnings.filterwarnings(\"ignore\")\n",
    "\n",
    "DATA_DIR = \"../Data/\""
   ]
  },
  {
   "cell_type": "code",
   "execution_count": 37,
   "metadata": {},
   "outputs": [],
   "source": [
    "train_data = pd.read_csv(DATA_DIR + \"processed_train.csv\")\n",
    "test_data = pd.read_csv(DATA_DIR + \"processed_test.csv\")"
   ]
  },
  {
   "cell_type": "markdown",
   "metadata": {},
   "source": [
    "We will now make a function for easily testing different models."
   ]
  },
  {
   "cell_type": "code",
   "execution_count": 38,
   "metadata": {},
   "outputs": [],
   "source": [
    "def train_and_test_model(train_data : pd.DataFrame,  \n",
    "                         model, \n",
    "                         print_info : bool= True,\n",
    "                         **model_paramaters):\n",
    "    '''\n",
    "    Function for fitting data to a model using stratified k fold with 10 folds.\n",
    "    Args:\n",
    "    train_data (pd.DataFrame)\n",
    "    test_data (pd.DataFrame)\n",
    "    model (sklearn style model)\n",
    "    model_paramaters (dictionary)\n",
    "    '''\n",
    "    # Get training data\n",
    "    X_train = train_data.drop(\"loan_status\", axis = 1)\n",
    "    # Get labels\n",
    "    y_train = train_data[\"loan_status\"]\n",
    "    # Set paramaters\n",
    "    model.set_params(**model_paramaters)\n",
    "    # Create folds\n",
    "    strat_k_fold = StratifiedKFold(10, shuffle= True)\n",
    "    # Create auc score lists\n",
    "    train_auc_scores = []\n",
    "    val_auc_scores = []#\n",
    "    val_acc_scores = []\n",
    "    # Loop through folds in folded data.\n",
    "    for fold , (train_ind, val_inx) in enumerate(strat_k_fold.split(X_train, y_train), 1):\n",
    "        x_train_fold, x_val_fold = X_train.iloc[train_ind], X_train.iloc[val_inx]\n",
    "        y_train_fold, y_val_fold = y_train.iloc[train_ind], y_train.iloc[val_inx]\n",
    "\n",
    "        model.fit(x_train_fold, y_train_fold)\n",
    "\n",
    "        y_train_pred = model.predict_proba(x_train_fold)[:, 1]\n",
    "        \n",
    "        train_auc = roc_auc_score(y_train_fold, y_train_pred)\n",
    "\n",
    "        train_auc_scores.append(train_auc)\n",
    "\n",
    "        y_val_pred = model.predict_proba(x_val_fold)[:, 1]\n",
    "        y_val_label_pred = model.predict(x_val_fold)\n",
    "        val_auc = roc_auc_score(y_val_fold, y_val_pred)\n",
    "        val_acc_scores.append(accuracy_score(y_val_label_pred, y_val_fold))\n",
    "        val_auc_scores.append(val_auc)\n",
    "        if print_info:\n",
    "            print(f\"Fold {fold}: Train AUC = {train_auc:.4f}, Validation AUC = {val_auc:.4f}\")\n",
    "            \n",
    "    mean_train_auc = np.mean(train_auc_scores)\n",
    "    mean_val_auc = np.mean(val_auc_scores)\n",
    "    mean_val_acc = np.mean(val_acc_scores)\n",
    "    if print_info:\n",
    "        print(f\"\\nMean Train AUC: {mean_train_auc:.4f}\")\n",
    "        print(f\"Mean Validation AUC: {mean_val_auc:.4f}\")\n",
    "        print(f'Mean accuracy {mean_val_acc}')\n",
    "    return mean_val_auc"
   ]
  },
  {
   "cell_type": "markdown",
   "metadata": {},
   "source": [
    "We will train our model using 10 stratified Kfolds on our training data, using the mean validation ROC AUC as our model comparison criteria. First we will just test our models with no hyperparamaters tuning to see which one does the best oob, and hyperparamater tune that model from there."
   ]
  },
  {
   "cell_type": "code",
   "execution_count": 4,
   "metadata": {},
   "outputs": [
    {
     "name": "stdout",
     "output_type": "stream",
     "text": [
      "Fold 1: Train AUC = 0.9890, Validation AUC = 0.9458\n",
      "Fold 2: Train AUC = 0.9892, Validation AUC = 0.9533\n",
      "Fold 3: Train AUC = 0.9896, Validation AUC = 0.9523\n",
      "Fold 4: Train AUC = 0.9885, Validation AUC = 0.9540\n",
      "Fold 5: Train AUC = 0.9890, Validation AUC = 0.9508\n",
      "Fold 6: Train AUC = 0.9899, Validation AUC = 0.9550\n",
      "Fold 7: Train AUC = 0.9893, Validation AUC = 0.9514\n",
      "Fold 8: Train AUC = 0.9888, Validation AUC = 0.9564\n",
      "Fold 9: Train AUC = 0.9888, Validation AUC = 0.9556\n",
      "Fold 10: Train AUC = 0.9887, Validation AUC = 0.9570\n",
      "\n",
      "Mean Train AUC: 0.9891\n",
      "Mean Validation AUC: 0.9532\n",
      "Mean accuracy 0.9509592915403304\n",
      "Fold 1: Train AUC = 1.0000, Validation AUC = 0.9252\n",
      "Fold 2: Train AUC = 1.0000, Validation AUC = 0.9377\n",
      "Fold 3: Train AUC = 1.0000, Validation AUC = 0.9346\n",
      "Fold 4: Train AUC = 1.0000, Validation AUC = 0.9367\n",
      "Fold 5: Train AUC = 1.0000, Validation AUC = 0.9363\n",
      "Fold 6: Train AUC = 1.0000, Validation AUC = 0.9342\n",
      "Fold 7: Train AUC = 1.0000, Validation AUC = 0.9345\n",
      "Fold 8: Train AUC = 1.0000, Validation AUC = 0.9341\n",
      "Fold 9: Train AUC = 1.0000, Validation AUC = 0.9400\n",
      "Fold 10: Train AUC = 1.0000, Validation AUC = 0.9354\n",
      "\n",
      "Mean Train AUC: 1.0000\n",
      "Mean Validation AUC: 0.9349\n",
      "Mean accuracy 0.9499531000489643\n",
      "Fold 1: Train AUC = 0.9220, Validation AUC = 0.7293\n",
      "Fold 2: Train AUC = 0.9223, Validation AUC = 0.7283\n",
      "Fold 3: Train AUC = 0.9230, Validation AUC = 0.7247\n",
      "Fold 4: Train AUC = 0.9215, Validation AUC = 0.7406\n",
      "Fold 5: Train AUC = 0.9217, Validation AUC = 0.7414\n",
      "Fold 6: Train AUC = 0.9220, Validation AUC = 0.7342\n",
      "Fold 7: Train AUC = 0.9224, Validation AUC = 0.7203\n",
      "Fold 8: Train AUC = 0.9219, Validation AUC = 0.7285\n",
      "Fold 9: Train AUC = 0.9220, Validation AUC = 0.7282\n",
      "Fold 10: Train AUC = 0.9218, Validation AUC = 0.7398\n",
      "\n",
      "Mean Train AUC: 0.9220\n",
      "Mean Validation AUC: 0.7315\n",
      "Mean accuracy 0.8724187901033835\n",
      "Fold 1: Train AUC = 0.9434, Validation AUC = 0.9336\n",
      "Fold 2: Train AUC = 0.9433, Validation AUC = 0.9450\n",
      "Fold 3: Train AUC = 0.9418, Validation AUC = 0.9518\n",
      "Fold 4: Train AUC = 0.9429, Validation AUC = 0.9412\n",
      "Fold 5: Train AUC = 0.9437, Validation AUC = 0.9394\n",
      "Fold 6: Train AUC = 0.9441, Validation AUC = 0.9415\n",
      "Fold 7: Train AUC = 0.9436, Validation AUC = 0.9361\n",
      "Fold 8: Train AUC = 0.9440, Validation AUC = 0.9393\n",
      "Fold 9: Train AUC = 0.9436, Validation AUC = 0.9377\n",
      "Fold 10: Train AUC = 0.9439, Validation AUC = 0.9350\n",
      "\n",
      "Mean Train AUC: 0.9434\n",
      "Mean Validation AUC: 0.9401\n",
      "Mean accuracy 0.9463381111386365\n",
      "Fold 1: Train AUC = 0.8476, Validation AUC = 0.8367\n",
      "Fold 2: Train AUC = 0.8457, Validation AUC = 0.8517\n",
      "Fold 3: Train AUC = 0.8456, Validation AUC = 0.8447\n",
      "Fold 4: Train AUC = 0.8472, Validation AUC = 0.8395\n",
      "Fold 5: Train AUC = 0.8332, Validation AUC = 0.8485\n",
      "Fold 6: Train AUC = 0.8468, Validation AUC = 0.8424\n",
      "Fold 7: Train AUC = 0.8462, Validation AUC = 0.8469\n",
      "Fold 8: Train AUC = 0.8374, Validation AUC = 0.8320\n",
      "Fold 9: Train AUC = 0.8453, Validation AUC = 0.8482\n",
      "Fold 10: Train AUC = 0.8415, Validation AUC = 0.8509\n",
      "\n",
      "Mean Train AUC: 0.8437\n",
      "Mean Validation AUC: 0.8442\n",
      "Mean accuracy 0.8818654142955005\n",
      "Fold 1: Train AUC = 0.9998, Validation AUC = 0.9147\n",
      "Fold 2: Train AUC = 0.9998, Validation AUC = 0.9187\n",
      "Fold 3: Train AUC = 0.9998, Validation AUC = 0.9168\n",
      "Fold 4: Train AUC = 0.9997, Validation AUC = 0.9156\n",
      "Fold 5: Train AUC = 0.9998, Validation AUC = 0.9145\n",
      "Fold 6: Train AUC = 0.9998, Validation AUC = 0.9086\n",
      "Fold 7: Train AUC = 0.9998, Validation AUC = 0.9129\n",
      "Fold 8: Train AUC = 0.9998, Validation AUC = 0.9105\n",
      "Fold 9: Train AUC = 0.9998, Validation AUC = 0.9120\n",
      "Fold 10: Train AUC = 0.9999, Validation AUC = 0.9017\n",
      "\n",
      "Mean Train AUC: 0.9998\n",
      "Mean Validation AUC: 0.9126\n",
      "Mean accuracy 0.9464233946143853\n"
     ]
    }
   ],
   "source": [
    "models = [xgb.XGBClassifier(),\n",
    "          RandomForestClassifier(),\n",
    "          KNeighborsClassifier(5),\n",
    "          GradientBoostingClassifier(),\n",
    "          LogisticRegression(),\n",
    "          BaggingClassifier()\n",
    " ]\n",
    "\n",
    "\n",
    "\n",
    "\n",
    "model_names = []\n",
    "model_val_roc = []\n",
    "\n",
    "\n",
    "for model in models:\n",
    "    val_roc_auc = train_and_test_model(train_data, model, print_info = True)\n",
    "\n",
    "    model_names.append(type(model).__name__)\n",
    "    model_val_roc.append(val_roc_auc)"
   ]
  },
  {
   "cell_type": "code",
   "execution_count": 5,
   "metadata": {},
   "outputs": [
    {
     "data": {
      "text/html": [
       "<div>\n",
       "<style scoped>\n",
       "    .dataframe tbody tr th:only-of-type {\n",
       "        vertical-align: middle;\n",
       "    }\n",
       "\n",
       "    .dataframe tbody tr th {\n",
       "        vertical-align: top;\n",
       "    }\n",
       "\n",
       "    .dataframe thead th {\n",
       "        text-align: right;\n",
       "    }\n",
       "</style>\n",
       "<table border=\"1\" class=\"dataframe\">\n",
       "  <thead>\n",
       "    <tr style=\"text-align: right;\">\n",
       "      <th></th>\n",
       "      <th>Model</th>\n",
       "      <th>VAL_ROC</th>\n",
       "    </tr>\n",
       "  </thead>\n",
       "  <tbody>\n",
       "    <tr>\n",
       "      <th>0</th>\n",
       "      <td>XGBClassifier</td>\n",
       "      <td>0.953158</td>\n",
       "    </tr>\n",
       "    <tr>\n",
       "      <th>3</th>\n",
       "      <td>GradientBoostingClassifier</td>\n",
       "      <td>0.940072</td>\n",
       "    </tr>\n",
       "    <tr>\n",
       "      <th>1</th>\n",
       "      <td>RandomForestClassifier</td>\n",
       "      <td>0.934865</td>\n",
       "    </tr>\n",
       "    <tr>\n",
       "      <th>5</th>\n",
       "      <td>BaggingClassifier</td>\n",
       "      <td>0.912601</td>\n",
       "    </tr>\n",
       "    <tr>\n",
       "      <th>4</th>\n",
       "      <td>LogisticRegression</td>\n",
       "      <td>0.844166</td>\n",
       "    </tr>\n",
       "    <tr>\n",
       "      <th>2</th>\n",
       "      <td>KNeighborsClassifier</td>\n",
       "      <td>0.731539</td>\n",
       "    </tr>\n",
       "  </tbody>\n",
       "</table>\n",
       "</div>"
      ],
      "text/plain": [
       "                        Model   VAL_ROC\n",
       "0               XGBClassifier  0.953158\n",
       "3  GradientBoostingClassifier  0.940072\n",
       "1      RandomForestClassifier  0.934865\n",
       "5           BaggingClassifier  0.912601\n",
       "4          LogisticRegression  0.844166\n",
       "2        KNeighborsClassifier  0.731539"
      ]
     },
     "execution_count": 5,
     "metadata": {},
     "output_type": "execute_result"
    }
   ],
   "source": [
    "model_pred = pd.DataFrame({\"Model\" : model_names, \"VAL_ROC\" :model_val_roc} )\n",
    "model_pred.sort_values(by=\"VAL_ROC\", ascending= False)"
   ]
  },
  {
   "cell_type": "markdown",
   "metadata": {},
   "source": [
    "We see that our XGBclassifer does significantly better OOB then the others do. So we will now tune XGBclassifier from here to achieve the highest auc roc possible.\n",
    "\n",
    "To do so we will make use of optuna optimisation."
   ]
  },
  {
   "cell_type": "code",
   "execution_count": 6,
   "metadata": {},
   "outputs": [
    {
     "name": "stderr",
     "output_type": "stream",
     "text": [
      "[I 2024-10-18 17:23:45,576] A new study created in memory with name: no-name-645081e7-0034-42ae-8653-f8c02c135f34\n"
     ]
    },
    {
     "name": "stdout",
     "output_type": "stream",
     "text": [
      "Fold 1: Train AUC = 0.9895, Validation AUC = 0.9502\n",
      "Fold 2: Train AUC = 0.9899, Validation AUC = 0.9519\n",
      "Fold 3: Train AUC = 0.9890, Validation AUC = 0.9505\n",
      "Fold 4: Train AUC = 0.9893, Validation AUC = 0.9526\n",
      "Fold 5: Train AUC = 0.9889, Validation AUC = 0.9520\n",
      "Fold 6: Train AUC = 0.9888, Validation AUC = 0.9597\n",
      "Fold 7: Train AUC = 0.9891, Validation AUC = 0.9466\n",
      "Fold 8: Train AUC = 0.9888, Validation AUC = 0.9548\n",
      "Fold 9: Train AUC = 0.9894, Validation AUC = 0.9523\n"
     ]
    },
    {
     "name": "stderr",
     "output_type": "stream",
     "text": [
      "[I 2024-10-18 17:23:49,387] Trial 0 finished with value: 0.9530358468637287 and parameters: {'eta': 0.00025289886804365696, 'alpha': 7.701298081784142, 'num_leaves': 70, 'learning_rate': 0.9757345147464512, 'max_depth': 9, 'n_estimators': 20}. Best is trial 0 with value: 0.9530358468637287.\n"
     ]
    },
    {
     "name": "stdout",
     "output_type": "stream",
     "text": [
      "Fold 10: Train AUC = 0.9886, Validation AUC = 0.9597\n",
      "\n",
      "Mean Train AUC: 0.9891\n",
      "Mean Validation AUC: 0.9530\n",
      "Mean accuracy 0.9506694422831117\n",
      "Fold 1: Train AUC = 0.9887, Validation AUC = 0.9523\n",
      "Fold 2: Train AUC = 0.9895, Validation AUC = 0.9571\n",
      "Fold 3: Train AUC = 0.9888, Validation AUC = 0.9502\n",
      "Fold 4: Train AUC = 0.9892, Validation AUC = 0.9501\n",
      "Fold 5: Train AUC = 0.9895, Validation AUC = 0.9554\n",
      "Fold 6: Train AUC = 0.9881, Validation AUC = 0.9571\n",
      "Fold 7: Train AUC = 0.9895, Validation AUC = 0.9407\n",
      "Fold 8: Train AUC = 0.9896, Validation AUC = 0.9498\n",
      "Fold 9: Train AUC = 0.9892, Validation AUC = 0.9543\n"
     ]
    },
    {
     "name": "stderr",
     "output_type": "stream",
     "text": [
      "[I 2024-10-18 17:23:53,336] Trial 1 finished with value: 0.9522938482852716 and parameters: {'eta': 0.0023334709452005613, 'alpha': 0.04763294810937987, 'num_leaves': 70, 'learning_rate': 0.025777330646205625, 'max_depth': 5, 'n_estimators': 10}. Best is trial 0 with value: 0.9530358468637287.\n"
     ]
    },
    {
     "name": "stdout",
     "output_type": "stream",
     "text": [
      "Fold 10: Train AUC = 0.9876, Validation AUC = 0.9559\n",
      "\n",
      "Mean Train AUC: 0.9890\n",
      "Mean Validation AUC: 0.9523\n",
      "Mean accuracy 0.9510786000146544\n",
      "Fold 1: Train AUC = 0.9888, Validation AUC = 0.9490\n",
      "Fold 2: Train AUC = 0.9893, Validation AUC = 0.9554\n",
      "Fold 3: Train AUC = 0.9893, Validation AUC = 0.9548\n",
      "Fold 4: Train AUC = 0.9897, Validation AUC = 0.9492\n",
      "Fold 5: Train AUC = 0.9890, Validation AUC = 0.9462\n",
      "Fold 6: Train AUC = 0.9890, Validation AUC = 0.9584\n",
      "Fold 7: Train AUC = 0.9889, Validation AUC = 0.9521\n",
      "Fold 8: Train AUC = 0.9892, Validation AUC = 0.9510\n",
      "Fold 9: Train AUC = 0.9893, Validation AUC = 0.9524\n"
     ]
    },
    {
     "name": "stderr",
     "output_type": "stream",
     "text": [
      "[I 2024-10-18 17:23:56,996] Trial 2 finished with value: 0.9521830840536089 and parameters: {'eta': 0.15201792893105964, 'alpha': 0.0032561292446866177, 'num_leaves': 20, 'learning_rate': 0.09908876702529865, 'max_depth': 5, 'n_estimators': 1000}. Best is trial 0 with value: 0.9530358468637287.\n"
     ]
    },
    {
     "name": "stdout",
     "output_type": "stream",
     "text": [
      "Fold 10: Train AUC = 0.9882, Validation AUC = 0.9534\n",
      "\n",
      "Mean Train AUC: 0.9891\n",
      "Mean Validation AUC: 0.9522\n",
      "Mean accuracy 0.9507886460830255\n",
      "Fold 1: Train AUC = 0.9891, Validation AUC = 0.9541\n",
      "Fold 2: Train AUC = 0.9898, Validation AUC = 0.9516\n",
      "Fold 3: Train AUC = 0.9887, Validation AUC = 0.9524\n",
      "Fold 4: Train AUC = 0.9893, Validation AUC = 0.9526\n",
      "Fold 5: Train AUC = 0.9883, Validation AUC = 0.9488\n",
      "Fold 6: Train AUC = 0.9892, Validation AUC = 0.9484\n",
      "Fold 7: Train AUC = 0.9890, Validation AUC = 0.9489\n",
      "Fold 8: Train AUC = 0.9896, Validation AUC = 0.9574\n",
      "Fold 9: Train AUC = 0.9888, Validation AUC = 0.9526\n"
     ]
    },
    {
     "name": "stderr",
     "output_type": "stream",
     "text": [
      "[I 2024-10-18 17:24:00,449] Trial 3 finished with value: 0.9518557599385072 and parameters: {'eta': 0.03992999076347032, 'alpha': 0.6804245623450539, 'num_leaves': 20, 'learning_rate': 0.002692724716967996, 'max_depth': 13, 'n_estimators': 50}. Best is trial 0 with value: 0.9530358468637287.\n"
     ]
    },
    {
     "name": "stdout",
     "output_type": "stream",
     "text": [
      "Fold 10: Train AUC = 0.9889, Validation AUC = 0.9518\n",
      "\n",
      "Mean Train AUC: 0.9891\n",
      "Mean Validation AUC: 0.9519\n",
      "Mean accuracy 0.9506182681269909\n",
      "Fold 1: Train AUC = 0.9903, Validation AUC = 0.9432\n",
      "Fold 2: Train AUC = 0.9882, Validation AUC = 0.9574\n",
      "Fold 3: Train AUC = 0.9893, Validation AUC = 0.9586\n",
      "Fold 4: Train AUC = 0.9892, Validation AUC = 0.9555\n",
      "Fold 5: Train AUC = 0.9893, Validation AUC = 0.9539\n",
      "Fold 6: Train AUC = 0.9890, Validation AUC = 0.9522\n",
      "Fold 7: Train AUC = 0.9891, Validation AUC = 0.9561\n",
      "Fold 8: Train AUC = 0.9893, Validation AUC = 0.9569\n",
      "Fold 9: Train AUC = 0.9887, Validation AUC = 0.9508\n"
     ]
    },
    {
     "name": "stderr",
     "output_type": "stream",
     "text": [
      "[I 2024-10-18 17:24:03,878] Trial 4 finished with value: 0.953046253833455 and parameters: {'eta': 0.00022712757691586202, 'alpha': 0.011621443692431059, 'num_leaves': 70, 'learning_rate': 0.2816268109315556, 'max_depth': 9, 'n_estimators': 1000}. Best is trial 4 with value: 0.953046253833455.\n"
     ]
    },
    {
     "name": "stdout",
     "output_type": "stream",
     "text": [
      "Fold 10: Train AUC = 0.9892, Validation AUC = 0.9459\n",
      "\n",
      "Mean Train AUC: 0.9892\n",
      "Mean Validation AUC: 0.9530\n",
      "Mean accuracy 0.9510614857485791\n",
      "Fold 1: Train AUC = 0.9882, Validation AUC = 0.9558\n",
      "Fold 2: Train AUC = 0.9897, Validation AUC = 0.9562\n",
      "Fold 3: Train AUC = 0.9900, Validation AUC = 0.9564\n",
      "Fold 4: Train AUC = 0.9895, Validation AUC = 0.9558\n",
      "Fold 5: Train AUC = 0.9888, Validation AUC = 0.9535\n",
      "Fold 6: Train AUC = 0.9896, Validation AUC = 0.9510\n",
      "Fold 7: Train AUC = 0.9882, Validation AUC = 0.9545\n",
      "Fold 8: Train AUC = 0.9898, Validation AUC = 0.9457\n",
      "Fold 9: Train AUC = 0.9896, Validation AUC = 0.9476\n"
     ]
    },
    {
     "name": "stderr",
     "output_type": "stream",
     "text": [
      "[I 2024-10-18 17:24:07,272] Trial 5 finished with value: 0.9532683286736336 and parameters: {'eta': 0.9672022809038247, 'alpha': 0.5913041226946202, 'num_leaves': 100, 'learning_rate': 0.009933782296895595, 'max_depth': 7, 'n_estimators': 1000}. Best is trial 5 with value: 0.9532683286736336.\n"
     ]
    },
    {
     "name": "stdout",
     "output_type": "stream",
     "text": [
      "Fold 10: Train AUC = 0.9888, Validation AUC = 0.9562\n",
      "\n",
      "Mean Train AUC: 0.9892\n",
      "Mean Validation AUC: 0.9533\n",
      "Mean accuracy 0.9511296782192323\n",
      "Fold 1: Train AUC = 0.9884, Validation AUC = 0.9584\n",
      "Fold 2: Train AUC = 0.9897, Validation AUC = 0.9453\n",
      "Fold 3: Train AUC = 0.9888, Validation AUC = 0.9517\n",
      "Fold 4: Train AUC = 0.9893, Validation AUC = 0.9582\n",
      "Fold 5: Train AUC = 0.9891, Validation AUC = 0.9491\n",
      "Fold 6: Train AUC = 0.9886, Validation AUC = 0.9443\n",
      "Fold 7: Train AUC = 0.9894, Validation AUC = 0.9579\n",
      "Fold 8: Train AUC = 0.9890, Validation AUC = 0.9485\n",
      "Fold 9: Train AUC = 0.9880, Validation AUC = 0.9563\n"
     ]
    },
    {
     "name": "stderr",
     "output_type": "stream",
     "text": [
      "[I 2024-10-18 17:24:10,638] Trial 6 finished with value: 0.9519567279460445 and parameters: {'eta': 0.00028843083848223867, 'alpha': 0.021532933012979094, 'num_leaves': 100, 'learning_rate': 0.009549354669227307, 'max_depth': 9, 'n_estimators': 10}. Best is trial 5 with value: 0.9532683286736336.\n"
     ]
    },
    {
     "name": "stdout",
     "output_type": "stream",
     "text": [
      "Fold 10: Train AUC = 0.9893, Validation AUC = 0.9499\n",
      "\n",
      "Mean Train AUC: 0.9889\n",
      "Mean Validation AUC: 0.9520\n",
      "Mean accuracy 0.9509422034428576\n",
      "Fold 1: Train AUC = 0.9882, Validation AUC = 0.9582\n",
      "Fold 2: Train AUC = 0.9900, Validation AUC = 0.9434\n",
      "Fold 3: Train AUC = 0.9884, Validation AUC = 0.9499\n",
      "Fold 4: Train AUC = 0.9891, Validation AUC = 0.9545\n",
      "Fold 5: Train AUC = 0.9885, Validation AUC = 0.9563\n",
      "Fold 6: Train AUC = 0.9897, Validation AUC = 0.9497\n",
      "Fold 7: Train AUC = 0.9899, Validation AUC = 0.9452\n",
      "Fold 8: Train AUC = 0.9893, Validation AUC = 0.9533\n",
      "Fold 9: Train AUC = 0.9889, Validation AUC = 0.9537\n"
     ]
    },
    {
     "name": "stderr",
     "output_type": "stream",
     "text": [
      "[I 2024-10-18 17:24:14,059] Trial 7 finished with value: 0.9523040354207641 and parameters: {'eta': 0.07385974547439557, 'alpha': 0.18550693250120212, 'num_leaves': 50, 'learning_rate': 0.001455498699300626, 'max_depth': 7, 'n_estimators': 500}. Best is trial 5 with value: 0.9532683286736336.\n"
     ]
    },
    {
     "name": "stdout",
     "output_type": "stream",
     "text": [
      "Fold 10: Train AUC = 0.9884, Validation AUC = 0.9588\n",
      "\n",
      "Mean Train AUC: 0.9890\n",
      "Mean Validation AUC: 0.9523\n",
      "Mean accuracy 0.9508739557273765\n",
      "Fold 1: Train AUC = 0.9892, Validation AUC = 0.9539\n",
      "Fold 2: Train AUC = 0.9885, Validation AUC = 0.9586\n",
      "Fold 3: Train AUC = 0.9883, Validation AUC = 0.9619\n",
      "Fold 4: Train AUC = 0.9889, Validation AUC = 0.9511\n",
      "Fold 5: Train AUC = 0.9903, Validation AUC = 0.9461\n",
      "Fold 6: Train AUC = 0.9887, Validation AUC = 0.9553\n",
      "Fold 7: Train AUC = 0.9889, Validation AUC = 0.9535\n",
      "Fold 8: Train AUC = 0.9886, Validation AUC = 0.9491\n",
      "Fold 9: Train AUC = 0.9885, Validation AUC = 0.9495\n"
     ]
    },
    {
     "name": "stderr",
     "output_type": "stream",
     "text": [
      "[I 2024-10-18 17:24:17,488] Trial 8 finished with value: 0.953312574295429 and parameters: {'eta': 0.00016717230341957513, 'alpha': 0.04505301724660733, 'num_leaves': 20, 'learning_rate': 0.003770945640139732, 'max_depth': 11, 'n_estimators': 50}. Best is trial 8 with value: 0.953312574295429.\n"
     ]
    },
    {
     "name": "stdout",
     "output_type": "stream",
     "text": [
      "Fold 10: Train AUC = 0.9892, Validation AUC = 0.9541\n",
      "\n",
      "Mean Train AUC: 0.9889\n",
      "Mean Validation AUC: 0.9533\n",
      "Mean accuracy 0.9512148860967959\n",
      "Fold 1: Train AUC = 0.9884, Validation AUC = 0.9583\n",
      "Fold 2: Train AUC = 0.9880, Validation AUC = 0.9570\n",
      "Fold 3: Train AUC = 0.9894, Validation AUC = 0.9514\n",
      "Fold 4: Train AUC = 0.9889, Validation AUC = 0.9513\n",
      "Fold 5: Train AUC = 0.9887, Validation AUC = 0.9520\n",
      "Fold 6: Train AUC = 0.9886, Validation AUC = 0.9548\n",
      "Fold 7: Train AUC = 0.9892, Validation AUC = 0.9513\n",
      "Fold 8: Train AUC = 0.9887, Validation AUC = 0.9520\n",
      "Fold 9: Train AUC = 0.9898, Validation AUC = 0.9465\n"
     ]
    },
    {
     "name": "stderr",
     "output_type": "stream",
     "text": [
      "[I 2024-10-18 17:24:20,909] Trial 9 finished with value: 0.9525790908060683 and parameters: {'eta': 0.11976512520563515, 'alpha': 5.85034429931369, 'num_leaves': 10, 'learning_rate': 0.0016099298577928788, 'max_depth': 9, 'n_estimators': 500}. Best is trial 8 with value: 0.953312574295429.\n"
     ]
    },
    {
     "name": "stdout",
     "output_type": "stream",
     "text": [
      "Fold 10: Train AUC = 0.9896, Validation AUC = 0.9513\n",
      "\n",
      "Mean Train AUC: 0.9889\n",
      "Mean Validation AUC: 0.9526\n",
      "Mean accuracy 0.9510955281928893\n",
      "Fold 1: Train AUC = 0.9899, Validation AUC = 0.9540\n",
      "Fold 2: Train AUC = 0.9893, Validation AUC = 0.9501\n",
      "Fold 3: Train AUC = 0.9884, Validation AUC = 0.9534\n",
      "Fold 4: Train AUC = 0.9895, Validation AUC = 0.9540\n",
      "Fold 5: Train AUC = 0.9892, Validation AUC = 0.9541\n",
      "Fold 6: Train AUC = 0.9887, Validation AUC = 0.9536\n",
      "Fold 7: Train AUC = 0.9888, Validation AUC = 0.9501\n",
      "Fold 8: Train AUC = 0.9891, Validation AUC = 0.9522\n",
      "Fold 9: Train AUC = 0.9895, Validation AUC = 0.9506\n"
     ]
    },
    {
     "name": "stderr",
     "output_type": "stream",
     "text": [
      "[I 2024-10-18 17:24:24,290] Trial 10 finished with value: 0.9519043623151482 and parameters: {'eta': 0.0035463033930338617, 'alpha': 0.0014527284073480066, 'num_leaves': 40, 'learning_rate': 0.00017217029442797102, 'max_depth': 11, 'n_estimators': 50}. Best is trial 8 with value: 0.953312574295429.\n"
     ]
    },
    {
     "name": "stdout",
     "output_type": "stream",
     "text": [
      "Fold 10: Train AUC = 0.9890, Validation AUC = 0.9470\n",
      "\n",
      "Mean Train AUC: 0.9891\n",
      "Mean Validation AUC: 0.9519\n",
      "Mean accuracy 0.9511126715351897\n",
      "Fold 1: Train AUC = 0.9896, Validation AUC = 0.9521\n",
      "Fold 2: Train AUC = 0.9888, Validation AUC = 0.9479\n",
      "Fold 3: Train AUC = 0.9885, Validation AUC = 0.9460\n",
      "Fold 4: Train AUC = 0.9890, Validation AUC = 0.9518\n",
      "Fold 5: Train AUC = 0.9890, Validation AUC = 0.9538\n",
      "Fold 6: Train AUC = 0.9893, Validation AUC = 0.9521\n",
      "Fold 7: Train AUC = 0.9895, Validation AUC = 0.9582\n",
      "Fold 8: Train AUC = 0.9887, Validation AUC = 0.9535\n",
      "Fold 9: Train AUC = 0.9892, Validation AUC = 0.9535\n"
     ]
    },
    {
     "name": "stderr",
     "output_type": "stream",
     "text": [
      "[I 2024-10-18 17:24:27,747] Trial 11 finished with value: 0.9519657725907112 and parameters: {'eta': 0.8018308328988789, 'alpha': 0.4150980704547946, 'num_leaves': 100, 'learning_rate': 0.016932033048732382, 'max_depth': 7, 'n_estimators': 100}. Best is trial 8 with value: 0.953312574295429.\n"
     ]
    },
    {
     "name": "stdout",
     "output_type": "stream",
     "text": [
      "Fold 10: Train AUC = 0.9890, Validation AUC = 0.9509\n",
      "\n",
      "Mean Train AUC: 0.9891\n",
      "Mean Validation AUC: 0.9520\n",
      "Mean accuracy 0.950907992356442\n",
      "Fold 1: Train AUC = 0.9883, Validation AUC = 0.9565\n",
      "Fold 2: Train AUC = 0.9895, Validation AUC = 0.9502\n",
      "Fold 3: Train AUC = 0.9889, Validation AUC = 0.9507\n",
      "Fold 4: Train AUC = 0.9891, Validation AUC = 0.9500\n",
      "Fold 5: Train AUC = 0.9891, Validation AUC = 0.9461\n",
      "Fold 6: Train AUC = 0.9893, Validation AUC = 0.9595\n",
      "Fold 7: Train AUC = 0.9887, Validation AUC = 0.9488\n",
      "Fold 8: Train AUC = 0.9895, Validation AUC = 0.9525\n",
      "Fold 9: Train AUC = 0.9893, Validation AUC = 0.9541\n"
     ]
    },
    {
     "name": "stderr",
     "output_type": "stream",
     "text": [
      "[I 2024-10-18 17:24:31,263] Trial 12 finished with value: 0.9522767661329599 and parameters: {'eta': 0.010022676968922813, 'alpha': 1.306362815489927, 'num_leaves': 30, 'learning_rate': 0.00024922425823620947, 'max_depth': 11, 'n_estimators': 50}. Best is trial 8 with value: 0.953312574295429.\n"
     ]
    },
    {
     "name": "stdout",
     "output_type": "stream",
     "text": [
      "Fold 10: Train AUC = 0.9890, Validation AUC = 0.9543\n",
      "\n",
      "Mean Train AUC: 0.9891\n",
      "Mean Validation AUC: 0.9523\n",
      "Mean accuracy 0.9514365981281887\n",
      "Fold 1: Train AUC = 0.9889, Validation AUC = 0.9547\n",
      "Fold 2: Train AUC = 0.9888, Validation AUC = 0.9573\n",
      "Fold 3: Train AUC = 0.9893, Validation AUC = 0.9559\n",
      "Fold 4: Train AUC = 0.9894, Validation AUC = 0.9476\n",
      "Fold 5: Train AUC = 0.9892, Validation AUC = 0.9477\n",
      "Fold 6: Train AUC = 0.9889, Validation AUC = 0.9505\n",
      "Fold 7: Train AUC = 0.9889, Validation AUC = 0.9556\n",
      "Fold 8: Train AUC = 0.9884, Validation AUC = 0.9598\n",
      "Fold 9: Train AUC = 0.9895, Validation AUC = 0.9503\n"
     ]
    },
    {
     "name": "stderr",
     "output_type": "stream",
     "text": [
      "[I 2024-10-18 17:24:34,750] Trial 13 finished with value: 0.9522830394511704 and parameters: {'eta': 0.7052235619670889, 'alpha': 0.08049131197567022, 'num_leaves': 100, 'learning_rate': 0.005192503864870049, 'max_depth': 11, 'n_estimators': 1000}. Best is trial 8 with value: 0.953312574295429.\n"
     ]
    },
    {
     "name": "stdout",
     "output_type": "stream",
     "text": [
      "Fold 10: Train AUC = 0.9894, Validation AUC = 0.9435\n",
      "\n",
      "Mean Train AUC: 0.9891\n",
      "Mean Validation AUC: 0.9523\n",
      "Mean accuracy 0.9510614595799763\n",
      "Fold 1: Train AUC = 0.9893, Validation AUC = 0.9523\n",
      "Fold 2: Train AUC = 0.9897, Validation AUC = 0.9551\n",
      "Fold 3: Train AUC = 0.9890, Validation AUC = 0.9538\n",
      "Fold 4: Train AUC = 0.9889, Validation AUC = 0.9503\n",
      "Fold 5: Train AUC = 0.9886, Validation AUC = 0.9530\n",
      "Fold 6: Train AUC = 0.9881, Validation AUC = 0.9561\n",
      "Fold 7: Train AUC = 0.9885, Validation AUC = 0.9548\n",
      "Fold 8: Train AUC = 0.9888, Validation AUC = 0.9585\n",
      "Fold 9: Train AUC = 0.9901, Validation AUC = 0.9467\n"
     ]
    },
    {
     "name": "stderr",
     "output_type": "stream",
     "text": [
      "[I 2024-10-18 17:24:38,122] Trial 14 finished with value: 0.952799574138903 and parameters: {'eta': 0.0011119006590170472, 'alpha': 1.9164799624370015, 'num_leaves': 20, 'learning_rate': 0.07145080410864744, 'max_depth': 7, 'n_estimators': 20}. Best is trial 8 with value: 0.953312574295429.\n"
     ]
    },
    {
     "name": "stdout",
     "output_type": "stream",
     "text": [
      "Fold 10: Train AUC = 0.9895, Validation AUC = 0.9474\n",
      "\n",
      "Mean Train AUC: 0.9890\n",
      "Mean Validation AUC: 0.9528\n",
      "Mean accuracy 0.9513172663928848\n",
      "Fold 1: Train AUC = 0.9882, Validation AUC = 0.9498\n",
      "Fold 2: Train AUC = 0.9887, Validation AUC = 0.9547\n",
      "Fold 3: Train AUC = 0.9894, Validation AUC = 0.9461\n",
      "Fold 4: Train AUC = 0.9886, Validation AUC = 0.9494\n",
      "Fold 5: Train AUC = 0.9896, Validation AUC = 0.9522\n",
      "Fold 6: Train AUC = 0.9884, Validation AUC = 0.9546\n",
      "Fold 7: Train AUC = 0.9883, Validation AUC = 0.9536\n",
      "Fold 8: Train AUC = 0.9890, Validation AUC = 0.9560\n",
      "Fold 9: Train AUC = 0.9890, Validation AUC = 0.9517\n"
     ]
    },
    {
     "name": "stderr",
     "output_type": "stream",
     "text": [
      "[I 2024-10-18 17:24:41,584] Trial 15 finished with value: 0.9518265052043512 and parameters: {'eta': 0.015854985227002162, 'alpha': 0.13517214815546644, 'num_leaves': 50, 'learning_rate': 0.0004359903963201638, 'max_depth': 13, 'n_estimators': 100}. Best is trial 8 with value: 0.953312574295429.\n"
     ]
    },
    {
     "name": "stdout",
     "output_type": "stream",
     "text": [
      "Fold 10: Train AUC = 0.9889, Validation AUC = 0.9501\n",
      "\n",
      "Mean Train AUC: 0.9888\n",
      "Mean Validation AUC: 0.9518\n",
      "Mean accuracy 0.9512150547389014\n",
      "Fold 1: Train AUC = 0.9896, Validation AUC = 0.9563\n",
      "Fold 2: Train AUC = 0.9895, Validation AUC = 0.9487\n",
      "Fold 3: Train AUC = 0.9879, Validation AUC = 0.9574\n",
      "Fold 4: Train AUC = 0.9889, Validation AUC = 0.9511\n",
      "Fold 5: Train AUC = 0.9881, Validation AUC = 0.9538\n",
      "Fold 6: Train AUC = 0.9888, Validation AUC = 0.9543\n",
      "Fold 7: Train AUC = 0.9885, Validation AUC = 0.9466\n",
      "Fold 8: Train AUC = 0.9885, Validation AUC = 0.9527\n",
      "Fold 9: Train AUC = 0.9892, Validation AUC = 0.9506\n"
     ]
    },
    {
     "name": "stderr",
     "output_type": "stream",
     "text": [
      "[I 2024-10-18 17:24:45,307] Trial 16 finished with value: 0.952300211327248 and parameters: {'eta': 0.0012145862501189806, 'alpha': 0.005998239296398829, 'num_leaves': 30, 'learning_rate': 0.0008235355709611309, 'max_depth': 7, 'n_estimators': 50}. Best is trial 8 with value: 0.953312574295429.\n"
     ]
    },
    {
     "name": "stdout",
     "output_type": "stream",
     "text": [
      "Fold 10: Train AUC = 0.9890, Validation AUC = 0.9514\n",
      "\n",
      "Mean Train AUC: 0.9888\n",
      "Mean Validation AUC: 0.9523\n",
      "Mean accuracy 0.9510443772977487\n",
      "Fold 1: Train AUC = 0.9889, Validation AUC = 0.9532\n",
      "Fold 2: Train AUC = 0.9898, Validation AUC = 0.9506\n",
      "Fold 3: Train AUC = 0.9895, Validation AUC = 0.9521\n",
      "Fold 4: Train AUC = 0.9890, Validation AUC = 0.9506\n",
      "Fold 5: Train AUC = 0.9898, Validation AUC = 0.9522\n",
      "Fold 6: Train AUC = 0.9896, Validation AUC = 0.9430\n",
      "Fold 7: Train AUC = 0.9885, Validation AUC = 0.9544\n",
      "Fold 8: Train AUC = 0.9891, Validation AUC = 0.9493\n",
      "Fold 9: Train AUC = 0.9886, Validation AUC = 0.9546\n"
     ]
    },
    {
     "name": "stderr",
     "output_type": "stream",
     "text": [
      "[I 2024-10-18 17:24:48,666] Trial 17 finished with value: 0.9520413318849291 and parameters: {'eta': 0.0001106599144348259, 'alpha': 0.03501204678019942, 'num_leaves': 40, 'learning_rate': 0.005385175144396916, 'max_depth': 11, 'n_estimators': 1000}. Best is trial 8 with value: 0.953312574295429.\n"
     ]
    },
    {
     "name": "stdout",
     "output_type": "stream",
     "text": [
      "Fold 10: Train AUC = 0.9881, Validation AUC = 0.9603\n",
      "\n",
      "Mean Train AUC: 0.9891\n",
      "Mean Validation AUC: 0.9520\n",
      "Mean accuracy 0.951197861967018\n",
      "Fold 1: Train AUC = 0.9882, Validation AUC = 0.9568\n",
      "Fold 2: Train AUC = 0.9894, Validation AUC = 0.9511\n",
      "Fold 3: Train AUC = 0.9892, Validation AUC = 0.9565\n",
      "Fold 4: Train AUC = 0.9888, Validation AUC = 0.9502\n",
      "Fold 5: Train AUC = 0.9891, Validation AUC = 0.9494\n",
      "Fold 6: Train AUC = 0.9892, Validation AUC = 0.9507\n",
      "Fold 7: Train AUC = 0.9892, Validation AUC = 0.9483\n",
      "Fold 8: Train AUC = 0.9888, Validation AUC = 0.9460\n",
      "Fold 9: Train AUC = 0.9895, Validation AUC = 0.9568\n"
     ]
    },
    {
     "name": "stderr",
     "output_type": "stream",
     "text": [
      "[I 2024-10-18 17:24:52,000] Trial 18 finished with value: 0.9521523335059389 and parameters: {'eta': 0.3530272605589839, 'alpha': 0.2502129050350532, 'num_leaves': 10, 'learning_rate': 0.04743828213399287, 'max_depth': 11, 'n_estimators': 50}. Best is trial 8 with value: 0.953312574295429.\n"
     ]
    },
    {
     "name": "stdout",
     "output_type": "stream",
     "text": [
      "Fold 10: Train AUC = 0.9889, Validation AUC = 0.9558\n",
      "\n",
      "Mean Train AUC: 0.9890\n",
      "Mean Validation AUC: 0.9522\n",
      "Mean accuracy 0.9510274084127988\n",
      "Fold 1: Train AUC = 0.9886, Validation AUC = 0.9453\n",
      "Fold 2: Train AUC = 0.9889, Validation AUC = 0.9480\n",
      "Fold 3: Train AUC = 0.9887, Validation AUC = 0.9577\n",
      "Fold 4: Train AUC = 0.9893, Validation AUC = 0.9512\n",
      "Fold 5: Train AUC = 0.9877, Validation AUC = 0.9572\n",
      "Fold 6: Train AUC = 0.9892, Validation AUC = 0.9566\n",
      "Fold 7: Train AUC = 0.9894, Validation AUC = 0.9570\n",
      "Fold 8: Train AUC = 0.9886, Validation AUC = 0.9467\n",
      "Fold 9: Train AUC = 0.9887, Validation AUC = 0.9536\n"
     ]
    },
    {
     "name": "stderr",
     "output_type": "stream",
     "text": [
      "[I 2024-10-18 17:24:55,493] Trial 19 finished with value: 0.9522280207588455 and parameters: {'eta': 0.00373208471475278, 'alpha': 2.604893827609255, 'num_leaves': 20, 'learning_rate': 0.005267244768929908, 'max_depth': 7, 'n_estimators': 1000}. Best is trial 8 with value: 0.953312574295429.\n"
     ]
    },
    {
     "name": "stdout",
     "output_type": "stream",
     "text": [
      "Fold 10: Train AUC = 0.9896, Validation AUC = 0.9489\n",
      "\n",
      "Mean Train AUC: 0.9889\n",
      "Mean Validation AUC: 0.9522\n",
      "Mean accuracy 0.9511467401481027\n",
      "Fold 1: Train AUC = 0.9880, Validation AUC = 0.9556\n",
      "Fold 2: Train AUC = 0.9899, Validation AUC = 0.9508\n",
      "Fold 3: Train AUC = 0.9894, Validation AUC = 0.9533\n",
      "Fold 4: Train AUC = 0.9884, Validation AUC = 0.9481\n",
      "Fold 5: Train AUC = 0.9880, Validation AUC = 0.9584\n",
      "Fold 6: Train AUC = 0.9887, Validation AUC = 0.9494\n",
      "Fold 7: Train AUC = 0.9892, Validation AUC = 0.9419\n",
      "Fold 8: Train AUC = 0.9888, Validation AUC = 0.9564\n",
      "Fold 9: Train AUC = 0.9882, Validation AUC = 0.9583\n"
     ]
    },
    {
     "name": "stderr",
     "output_type": "stream",
     "text": [
      "[I 2024-10-18 17:24:58,918] Trial 20 finished with value: 0.9520198710812249 and parameters: {'eta': 0.030484613639767226, 'alpha': 0.6823989371050057, 'num_leaves': 100, 'learning_rate': 0.20396504558995762, 'max_depth': 5, 'n_estimators': 10}. Best is trial 8 with value: 0.953312574295429.\n"
     ]
    },
    {
     "name": "stdout",
     "output_type": "stream",
     "text": [
      "Fold 10: Train AUC = 0.9887, Validation AUC = 0.9480\n",
      "\n",
      "Mean Train AUC: 0.9887\n",
      "Mean Validation AUC: 0.9520\n",
      "Mean accuracy 0.950805658582313\n",
      "Fold 1: Train AUC = 0.9889, Validation AUC = 0.9561\n",
      "Fold 2: Train AUC = 0.9884, Validation AUC = 0.9570\n",
      "Fold 3: Train AUC = 0.9888, Validation AUC = 0.9536\n",
      "Fold 4: Train AUC = 0.9884, Validation AUC = 0.9580\n",
      "Fold 5: Train AUC = 0.9898, Validation AUC = 0.9483\n",
      "Fold 6: Train AUC = 0.9889, Validation AUC = 0.9547\n",
      "Fold 7: Train AUC = 0.9891, Validation AUC = 0.9487\n",
      "Fold 8: Train AUC = 0.9892, Validation AUC = 0.9470\n",
      "Fold 9: Train AUC = 0.9890, Validation AUC = 0.9542\n"
     ]
    },
    {
     "name": "stderr",
     "output_type": "stream",
     "text": [
      "[I 2024-10-18 17:25:02,291] Trial 21 finished with value: 0.9526298014485709 and parameters: {'eta': 0.0003695626558551729, 'alpha': 0.021330657184686134, 'num_leaves': 70, 'learning_rate': 0.42174629567746125, 'max_depth': 9, 'n_estimators': 1000}. Best is trial 8 with value: 0.953312574295429.\n"
     ]
    },
    {
     "name": "stdout",
     "output_type": "stream",
     "text": [
      "Fold 10: Train AUC = 0.9887, Validation AUC = 0.9488\n",
      "\n",
      "Mean Train AUC: 0.9889\n",
      "Mean Validation AUC: 0.9526\n",
      "Mean accuracy 0.95152184962009\n",
      "Fold 1: Train AUC = 0.9889, Validation AUC = 0.9519\n",
      "Fold 2: Train AUC = 0.9890, Validation AUC = 0.9482\n",
      "Fold 3: Train AUC = 0.9893, Validation AUC = 0.9496\n",
      "Fold 4: Train AUC = 0.9890, Validation AUC = 0.9521\n",
      "Fold 5: Train AUC = 0.9889, Validation AUC = 0.9527\n",
      "Fold 6: Train AUC = 0.9899, Validation AUC = 0.9498\n",
      "Fold 7: Train AUC = 0.9894, Validation AUC = 0.9564\n",
      "Fold 8: Train AUC = 0.9893, Validation AUC = 0.9537\n",
      "Fold 9: Train AUC = 0.9885, Validation AUC = 0.9556\n"
     ]
    },
    {
     "name": "stderr",
     "output_type": "stream",
     "text": [
      "[I 2024-10-18 17:25:05,788] Trial 22 finished with value: 0.9524956676828851 and parameters: {'eta': 0.00010347395122168115, 'alpha': 0.0053896665981423, 'num_leaves': 70, 'learning_rate': 0.02305661441769348, 'max_depth': 9, 'n_estimators': 1000}. Best is trial 8 with value: 0.953312574295429.\n"
     ]
    },
    {
     "name": "stdout",
     "output_type": "stream",
     "text": [
      "Fold 10: Train AUC = 0.9892, Validation AUC = 0.9549\n",
      "\n",
      "Mean Train AUC: 0.9892\n",
      "Mean Validation AUC: 0.9525\n",
      "Mean accuracy 0.9511638398760655\n",
      "Fold 1: Train AUC = 0.9897, Validation AUC = 0.9489\n",
      "Fold 2: Train AUC = 0.9885, Validation AUC = 0.9519\n",
      "Fold 3: Train AUC = 0.9892, Validation AUC = 0.9507\n",
      "Fold 4: Train AUC = 0.9896, Validation AUC = 0.9589\n",
      "Fold 5: Train AUC = 0.9893, Validation AUC = 0.9574\n",
      "Fold 6: Train AUC = 0.9886, Validation AUC = 0.9537\n",
      "Fold 7: Train AUC = 0.9885, Validation AUC = 0.9500\n",
      "Fold 8: Train AUC = 0.9895, Validation AUC = 0.9491\n",
      "Fold 9: Train AUC = 0.9890, Validation AUC = 0.9464\n"
     ]
    },
    {
     "name": "stderr",
     "output_type": "stream",
     "text": [
      "[I 2024-10-18 17:25:09,125] Trial 23 finished with value: 0.9524812584811689 and parameters: {'eta': 0.0006080351876861229, 'alpha': 0.009364904716036212, 'num_leaves': 70, 'learning_rate': 0.011458439756191239, 'max_depth': 13, 'n_estimators': 1000}. Best is trial 8 with value: 0.953312574295429.\n"
     ]
    },
    {
     "name": "stdout",
     "output_type": "stream",
     "text": [
      "Fold 10: Train AUC = 0.9892, Validation AUC = 0.9578\n",
      "\n",
      "Mean Train AUC: 0.9891\n",
      "Mean Validation AUC: 0.9525\n",
      "Mean accuracy 0.9512148599281932\n",
      "Fold 1: Train AUC = 0.9896, Validation AUC = 0.9570\n",
      "Fold 2: Train AUC = 0.9888, Validation AUC = 0.9483\n",
      "Fold 3: Train AUC = 0.9890, Validation AUC = 0.9557\n",
      "Fold 4: Train AUC = 0.9889, Validation AUC = 0.9504\n",
      "Fold 5: Train AUC = 0.9888, Validation AUC = 0.9495\n",
      "Fold 6: Train AUC = 0.9895, Validation AUC = 0.9482\n",
      "Fold 7: Train AUC = 0.9890, Validation AUC = 0.9564\n",
      "Fold 8: Train AUC = 0.9883, Validation AUC = 0.9578\n",
      "Fold 9: Train AUC = 0.9892, Validation AUC = 0.9469\n"
     ]
    },
    {
     "name": "stderr",
     "output_type": "stream",
     "text": [
      "[I 2024-10-18 17:25:12,558] Trial 24 finished with value: 0.9524516046380522 and parameters: {'eta': 0.0006838047090255552, 'alpha': 0.05938295977088758, 'num_leaves': 100, 'learning_rate': 0.1595695102150197, 'max_depth': 7, 'n_estimators': 1000}. Best is trial 8 with value: 0.953312574295429.\n"
     ]
    },
    {
     "name": "stdout",
     "output_type": "stream",
     "text": [
      "Fold 10: Train AUC = 0.9894, Validation AUC = 0.9543\n",
      "\n",
      "Mean Train AUC: 0.9891\n",
      "Mean Validation AUC: 0.9525\n",
      "Mean accuracy 0.9515218525277126\n",
      "Fold 1: Train AUC = 0.9892, Validation AUC = 0.9548\n",
      "Fold 2: Train AUC = 0.9897, Validation AUC = 0.9492\n",
      "Fold 3: Train AUC = 0.9890, Validation AUC = 0.9534\n",
      "Fold 4: Train AUC = 0.9888, Validation AUC = 0.9519\n",
      "Fold 5: Train AUC = 0.9891, Validation AUC = 0.9489\n",
      "Fold 6: Train AUC = 0.9888, Validation AUC = 0.9496\n",
      "Fold 7: Train AUC = 0.9890, Validation AUC = 0.9562\n",
      "Fold 8: Train AUC = 0.9896, Validation AUC = 0.9513\n",
      "Fold 9: Train AUC = 0.9892, Validation AUC = 0.9547\n"
     ]
    },
    {
     "name": "stderr",
     "output_type": "stream",
     "text": [
      "[I 2024-10-18 17:25:16,023] Trial 25 finished with value: 0.9526568393478655 and parameters: {'eta': 0.00021577252476685191, 'alpha': 0.015160235656158295, 'num_leaves': 20, 'learning_rate': 0.04305730523420269, 'max_depth': 9, 'n_estimators': 20}. Best is trial 8 with value: 0.953312574295429.\n"
     ]
    },
    {
     "name": "stdout",
     "output_type": "stream",
     "text": [
      "Fold 10: Train AUC = 0.9892, Validation AUC = 0.9566\n",
      "\n",
      "Mean Train AUC: 0.9892\n",
      "Mean Validation AUC: 0.9527\n",
      "Mean accuracy 0.9514877897300448\n",
      "Fold 1: Train AUC = 0.9890, Validation AUC = 0.9501\n",
      "Fold 2: Train AUC = 0.9891, Validation AUC = 0.9521\n",
      "Fold 3: Train AUC = 0.9899, Validation AUC = 0.9426\n",
      "Fold 4: Train AUC = 0.9888, Validation AUC = 0.9597\n",
      "Fold 5: Train AUC = 0.9891, Validation AUC = 0.9545\n",
      "Fold 6: Train AUC = 0.9894, Validation AUC = 0.9509\n",
      "Fold 7: Train AUC = 0.9893, Validation AUC = 0.9525\n",
      "Fold 8: Train AUC = 0.9890, Validation AUC = 0.9572\n",
      "Fold 9: Train AUC = 0.9899, Validation AUC = 0.9556\n"
     ]
    },
    {
     "name": "stderr",
     "output_type": "stream",
     "text": [
      "[I 2024-10-18 17:25:19,479] Trial 26 finished with value: 0.9526455491992468 and parameters: {'eta': 0.004940194593831026, 'alpha': 0.0011543081423470128, 'num_leaves': 10, 'learning_rate': 0.001972372303396242, 'max_depth': 11, 'n_estimators': 100}. Best is trial 8 with value: 0.953312574295429.\n"
     ]
    },
    {
     "name": "stdout",
     "output_type": "stream",
     "text": [
      "Fold 10: Train AUC = 0.9890, Validation AUC = 0.9513\n",
      "\n",
      "Mean Train AUC: 0.9892\n",
      "Mean Validation AUC: 0.9526\n",
      "Mean accuracy 0.9515218757886927\n",
      "Fold 1: Train AUC = 0.9889, Validation AUC = 0.9626\n",
      "Fold 2: Train AUC = 0.9897, Validation AUC = 0.9493\n",
      "Fold 3: Train AUC = 0.9894, Validation AUC = 0.9583\n",
      "Fold 4: Train AUC = 0.9898, Validation AUC = 0.9501\n",
      "Fold 5: Train AUC = 0.9897, Validation AUC = 0.9530\n",
      "Fold 6: Train AUC = 0.9887, Validation AUC = 0.9562\n",
      "Fold 7: Train AUC = 0.9891, Validation AUC = 0.9530\n",
      "Fold 8: Train AUC = 0.9894, Validation AUC = 0.9518\n",
      "Fold 9: Train AUC = 0.9888, Validation AUC = 0.9535\n"
     ]
    },
    {
     "name": "stderr",
     "output_type": "stream",
     "text": [
      "[I 2024-10-18 17:25:23,148] Trial 27 finished with value: 0.9533362636468722 and parameters: {'eta': 0.001607762182215826, 'alpha': 0.10314422640394982, 'num_leaves': 40, 'learning_rate': 0.0005436115358748693, 'max_depth': 11, 'n_estimators': 500}. Best is trial 27 with value: 0.9533362636468722.\n"
     ]
    },
    {
     "name": "stdout",
     "output_type": "stream",
     "text": [
      "Fold 10: Train AUC = 0.9891, Validation AUC = 0.9456\n",
      "\n",
      "Mean Train AUC: 0.9893\n",
      "Mean Validation AUC: 0.9533\n",
      "Mean accuracy 0.951197786368833\n",
      "Fold 1: Train AUC = 0.9881, Validation AUC = 0.9551\n",
      "Fold 2: Train AUC = 0.9888, Validation AUC = 0.9538\n",
      "Fold 3: Train AUC = 0.9896, Validation AUC = 0.9583\n",
      "Fold 4: Train AUC = 0.9887, Validation AUC = 0.9509\n",
      "Fold 5: Train AUC = 0.9881, Validation AUC = 0.9511\n",
      "Fold 6: Train AUC = 0.9900, Validation AUC = 0.9458\n",
      "Fold 7: Train AUC = 0.9890, Validation AUC = 0.9478\n",
      "Fold 8: Train AUC = 0.9894, Validation AUC = 0.9574\n",
      "Fold 9: Train AUC = 0.9900, Validation AUC = 0.9547\n"
     ]
    },
    {
     "name": "stderr",
     "output_type": "stream",
     "text": [
      "[I 2024-10-18 17:25:26,704] Trial 28 finished with value: 0.9528423226191887 and parameters: {'eta': 0.001449149754601607, 'alpha': 0.10833291544625435, 'num_leaves': 40, 'learning_rate': 0.0007106072654694599, 'max_depth': 11, 'n_estimators': 500}. Best is trial 27 with value: 0.9533362636468722.\n"
     ]
    },
    {
     "name": "stdout",
     "output_type": "stream",
     "text": [
      "Fold 10: Train AUC = 0.9892, Validation AUC = 0.9537\n",
      "\n",
      "Mean Train AUC: 0.9891\n",
      "Mean Validation AUC: 0.9528\n",
      "Mean accuracy 0.9516582665452443\n",
      "Fold 1: Train AUC = 0.9882, Validation AUC = 0.9523\n",
      "Fold 2: Train AUC = 0.9888, Validation AUC = 0.9547\n",
      "Fold 3: Train AUC = 0.9887, Validation AUC = 0.9503\n",
      "Fold 4: Train AUC = 0.9880, Validation AUC = 0.9546\n",
      "Fold 5: Train AUC = 0.9891, Validation AUC = 0.9502\n",
      "Fold 6: Train AUC = 0.9886, Validation AUC = 0.9548\n",
      "Fold 7: Train AUC = 0.9887, Validation AUC = 0.9505\n",
      "Fold 8: Train AUC = 0.9891, Validation AUC = 0.9566\n",
      "Fold 9: Train AUC = 0.9885, Validation AUC = 0.9460\n"
     ]
    },
    {
     "name": "stderr",
     "output_type": "stream",
     "text": [
      "[I 2024-10-18 17:25:30,292] Trial 29 finished with value: 0.9525983448922999 and parameters: {'eta': 0.006169289108499798, 'alpha': 0.36300914849493376, 'num_leaves': 40, 'learning_rate': 0.00010650195189618999, 'max_depth': 11, 'n_estimators': 500}. Best is trial 27 with value: 0.9533362636468722.\n"
     ]
    },
    {
     "name": "stdout",
     "output_type": "stream",
     "text": [
      "Fold 10: Train AUC = 0.9891, Validation AUC = 0.9559\n",
      "\n",
      "Mean Train AUC: 0.9887\n",
      "Mean Validation AUC: 0.9526\n",
      "Mean accuracy 0.9511808523753531\n"
     ]
    }
   ],
   "source": [
    "import optuna \n",
    "\n",
    "def objective(trial):\n",
    "\n",
    "    xgboost_params = {\n",
    "        \"objective\" : \"binary:logistic\",\n",
    "        \"eval_metric\" : \"auc\",\n",
    "        \"device\" : \"cuda\",\n",
    "        \"eta\" : trial.suggest_loguniform(\"eta\", 1e-4, 1 ),\n",
    "        \"alpha\" : trial.suggest_loguniform(\"alpha\", 1e-3, 10),\n",
    "        \"num_leaves\" : trial.suggest_categorical(\"num_leaves\", [10,20,30,40,50,70, 100]),\n",
    "        \"learning_rate\" : trial.suggest_loguniform(\"learning_rate\", 1e-4, 1),\n",
    "        \"max_depth\" : trial.suggest_categorical(\"max_depth\", [5,7,9,11,13]),\n",
    "        \"n_estimators\" : trial.suggest_categorical(\"n_estimators\" , [10, 20, 50, 100, 500, 1000])\n",
    "    }\n",
    "    model = xgb.XGBClassifier()\n",
    "    auc = train_and_test_model(train_data, model, print = False, model_paramaters= xgboost_params)\n",
    "    return auc\n",
    "\n",
    "study = optuna.create_study(direction=\"maximize\")\n",
    "study.optimize(objective, n_trials = 30)\n",
    "\n",
    "\n"
   ]
  },
  {
   "cell_type": "markdown",
   "metadata": {},
   "source": [
    "We will now train our model with the best paramaters on the whole training data before getting our submission file ready."
   ]
  },
  {
   "cell_type": "code",
   "execution_count": 7,
   "metadata": {},
   "outputs": [],
   "source": [
    "study.best_value\n",
    "\n",
    "\n",
    "best_model = xgb.XGBClassifier(**study.best_params)\n",
    "best_model.fit(X = train_data.drop(\"loan_status\", axis = 1), y = train_data[\"loan_status\"])\n",
    "test_predictions = best_model.predict_proba(test_data.drop(\"id\", axis = 1))[:, 1]\n",
    "test_predictions_df = pd.DataFrame({\"id\": test_data[\"id\"], \"loan_status\" : test_predictions})\n",
    "test_predictions_df.to_csv(\"../Data/sample_submission.csv\", index = False)"
   ]
  },
  {
   "cell_type": "code",
   "execution_count": 8,
   "metadata": {},
   "outputs": [],
   "source": [
    "\n",
    "test_predictions = model.predict_proba(test_data.drop(\"id\", axis = 1))[:, 1]\n",
    "test_predictions_df = pd.DataFrame({\"id\": test_data[\"id\"], \"loan_status\" : test_predictions})\n",
    "test_predictions_df.to_csv(\"../Data/sample_submission.csv\", index = False)"
   ]
  },
  {
   "cell_type": "markdown",
   "metadata": {},
   "source": [
    "We can also try more paramaters like weights which should help with the unbalance from the dataset."
   ]
  },
  {
   "cell_type": "code",
   "execution_count": 9,
   "metadata": {},
   "outputs": [
    {
     "name": "stderr",
     "output_type": "stream",
     "text": [
      "[I 2024-10-18 17:25:34,479] A new study created in memory with name: no-name-ef988571-132e-4100-bf09-68e7e7f53e8d\n"
     ]
    },
    {
     "name": "stdout",
     "output_type": "stream",
     "text": [
      "Fold 1: Train AUC = 0.9895, Validation AUC = 0.9467\n",
      "Fold 2: Train AUC = 0.9879, Validation AUC = 0.9523\n",
      "Fold 3: Train AUC = 0.9891, Validation AUC = 0.9489\n",
      "Fold 4: Train AUC = 0.9888, Validation AUC = 0.9500\n",
      "Fold 5: Train AUC = 0.9880, Validation AUC = 0.9539\n",
      "Fold 6: Train AUC = 0.9890, Validation AUC = 0.9535\n",
      "Fold 7: Train AUC = 0.9899, Validation AUC = 0.9596\n",
      "Fold 8: Train AUC = 0.9891, Validation AUC = 0.9500\n",
      "Fold 9: Train AUC = 0.9893, Validation AUC = 0.9548\n"
     ]
    },
    {
     "name": "stderr",
     "output_type": "stream",
     "text": [
      "[I 2024-10-18 17:25:38,541] Trial 0 finished with value: 0.9523134266581856 and parameters: {'eta': 0.0003482385379780825, 'alpha': 0.0012572007486088895, 'num_leaves': 20, 'learning_rate': 0.0015283156745186008, 'max_depth': 9, 'n_estimators': 50, 'weights': 169.17553407172392}. Best is trial 0 with value: 0.9523134266581856.\n"
     ]
    },
    {
     "name": "stdout",
     "output_type": "stream",
     "text": [
      "Fold 10: Train AUC = 0.9884, Validation AUC = 0.9535\n",
      "\n",
      "Mean Train AUC: 0.9889\n",
      "Mean Validation AUC: 0.9523\n",
      "Mean accuracy 0.9511297974317552\n",
      "Fold 1: Train AUC = 0.9890, Validation AUC = 0.9589\n",
      "Fold 2: Train AUC = 0.9887, Validation AUC = 0.9513\n",
      "Fold 3: Train AUC = 0.9891, Validation AUC = 0.9563\n",
      "Fold 4: Train AUC = 0.9887, Validation AUC = 0.9562\n",
      "Fold 5: Train AUC = 0.9898, Validation AUC = 0.9528\n",
      "Fold 6: Train AUC = 0.9882, Validation AUC = 0.9488\n",
      "Fold 7: Train AUC = 0.9885, Validation AUC = 0.9476\n",
      "Fold 8: Train AUC = 0.9889, Validation AUC = 0.9563\n",
      "Fold 9: Train AUC = 0.9896, Validation AUC = 0.9412\n"
     ]
    },
    {
     "name": "stderr",
     "output_type": "stream",
     "text": [
      "[I 2024-10-18 17:25:42,118] Trial 1 finished with value: 0.9522865713121819 and parameters: {'eta': 0.0784716986888146, 'alpha': 0.7182867154989006, 'num_leaves': 20, 'learning_rate': 0.0064372934222256435, 'max_depth': 11, 'n_estimators': 50, 'weights': 254.17696940129775}. Best is trial 0 with value: 0.9523134266581856.\n"
     ]
    },
    {
     "name": "stdout",
     "output_type": "stream",
     "text": [
      "Fold 10: Train AUC = 0.9895, Validation AUC = 0.9535\n",
      "\n",
      "Mean Train AUC: 0.9890\n",
      "Mean Validation AUC: 0.9523\n",
      "Mean accuracy 0.9509590850991325\n",
      "Fold 1: Train AUC = 0.9895, Validation AUC = 0.9497\n",
      "Fold 2: Train AUC = 0.9885, Validation AUC = 0.9468\n",
      "Fold 3: Train AUC = 0.9883, Validation AUC = 0.9492\n",
      "Fold 4: Train AUC = 0.9892, Validation AUC = 0.9491\n",
      "Fold 5: Train AUC = 0.9878, Validation AUC = 0.9563\n",
      "Fold 6: Train AUC = 0.9885, Validation AUC = 0.9635\n",
      "Fold 7: Train AUC = 0.9890, Validation AUC = 0.9528\n",
      "Fold 8: Train AUC = 0.9888, Validation AUC = 0.9540\n",
      "Fold 9: Train AUC = 0.9894, Validation AUC = 0.9471\n"
     ]
    },
    {
     "name": "stderr",
     "output_type": "stream",
     "text": [
      "[I 2024-10-18 17:25:45,691] Trial 2 finished with value: 0.9520242657632576 and parameters: {'eta': 0.004390840994707139, 'alpha': 0.0020220158727850854, 'num_leaves': 70, 'learning_rate': 0.00047251350663519434, 'max_depth': 5, 'n_estimators': 1000, 'weights': 358.20333996933886}. Best is trial 0 with value: 0.9523134266581856.\n"
     ]
    },
    {
     "name": "stdout",
     "output_type": "stream",
     "text": [
      "Fold 10: Train AUC = 0.9888, Validation AUC = 0.9516\n",
      "\n",
      "Mean Train AUC: 0.9888\n",
      "Mean Validation AUC: 0.9520\n",
      "Mean accuracy 0.950788707143098\n",
      "Fold 1: Train AUC = 0.9882, Validation AUC = 0.9601\n",
      "Fold 2: Train AUC = 0.9897, Validation AUC = 0.9519\n",
      "Fold 3: Train AUC = 0.9882, Validation AUC = 0.9589\n",
      "Fold 4: Train AUC = 0.9896, Validation AUC = 0.9413\n",
      "Fold 5: Train AUC = 0.9895, Validation AUC = 0.9497\n",
      "Fold 6: Train AUC = 0.9888, Validation AUC = 0.9613\n",
      "Fold 7: Train AUC = 0.9878, Validation AUC = 0.9522\n",
      "Fold 8: Train AUC = 0.9889, Validation AUC = 0.9580\n",
      "Fold 9: Train AUC = 0.9896, Validation AUC = 0.9430\n"
     ]
    },
    {
     "name": "stderr",
     "output_type": "stream",
     "text": [
      "[I 2024-10-18 17:25:49,000] Trial 3 finished with value: 0.9521527306453939 and parameters: {'eta': 0.2879547429187503, 'alpha': 2.0742907323885618, 'num_leaves': 20, 'learning_rate': 0.00032011201954501226, 'max_depth': 9, 'n_estimators': 20, 'weights': 6.975437501962389}. Best is trial 0 with value: 0.9523134266581856.\n"
     ]
    },
    {
     "name": "stdout",
     "output_type": "stream",
     "text": [
      "Fold 10: Train AUC = 0.9899, Validation AUC = 0.9452\n",
      "\n",
      "Mean Train AUC: 0.9890\n",
      "Mean Validation AUC: 0.9522\n",
      "Mean accuracy 0.9511126482742098\n",
      "Fold 1: Train AUC = 0.9893, Validation AUC = 0.9519\n",
      "Fold 2: Train AUC = 0.9888, Validation AUC = 0.9514\n",
      "Fold 3: Train AUC = 0.9894, Validation AUC = 0.9524\n",
      "Fold 4: Train AUC = 0.9890, Validation AUC = 0.9578\n",
      "Fold 5: Train AUC = 0.9897, Validation AUC = 0.9465\n",
      "Fold 6: Train AUC = 0.9893, Validation AUC = 0.9556\n",
      "Fold 7: Train AUC = 0.9896, Validation AUC = 0.9476\n",
      "Fold 8: Train AUC = 0.9894, Validation AUC = 0.9560\n",
      "Fold 9: Train AUC = 0.9886, Validation AUC = 0.9506\n"
     ]
    },
    {
     "name": "stderr",
     "output_type": "stream",
     "text": [
      "[I 2024-10-18 17:25:52,337] Trial 4 finished with value: 0.9529153995172187 and parameters: {'eta': 0.060218810679176026, 'alpha': 0.020881848181051498, 'num_leaves': 70, 'learning_rate': 0.01576921787539265, 'max_depth': 7, 'n_estimators': 10, 'weights': 214.36917765370478}. Best is trial 4 with value: 0.9529153995172187.\n"
     ]
    },
    {
     "name": "stdout",
     "output_type": "stream",
     "text": [
      "Fold 10: Train AUC = 0.9894, Validation AUC = 0.9593\n",
      "\n",
      "Mean Train AUC: 0.9892\n",
      "Mean Validation AUC: 0.9529\n",
      "Mean accuracy 0.9512831687037469\n",
      "Fold 1: Train AUC = 0.9898, Validation AUC = 0.9507\n",
      "Fold 2: Train AUC = 0.9892, Validation AUC = 0.9480\n",
      "Fold 3: Train AUC = 0.9887, Validation AUC = 0.9491\n",
      "Fold 4: Train AUC = 0.9885, Validation AUC = 0.9579\n",
      "Fold 5: Train AUC = 0.9896, Validation AUC = 0.9500\n",
      "Fold 6: Train AUC = 0.9888, Validation AUC = 0.9553\n",
      "Fold 7: Train AUC = 0.9895, Validation AUC = 0.9478\n",
      "Fold 8: Train AUC = 0.9886, Validation AUC = 0.9596\n",
      "Fold 9: Train AUC = 0.9890, Validation AUC = 0.9451\n"
     ]
    },
    {
     "name": "stderr",
     "output_type": "stream",
     "text": [
      "[I 2024-10-18 17:25:55,709] Trial 5 finished with value: 0.9520808982098187 and parameters: {'eta': 0.0007547517307650055, 'alpha': 0.5962040287999502, 'num_leaves': 100, 'learning_rate': 0.003304227103535006, 'max_depth': 9, 'n_estimators': 10, 'weights': 887.1960866372931}. Best is trial 4 with value: 0.9529153995172187.\n"
     ]
    },
    {
     "name": "stdout",
     "output_type": "stream",
     "text": [
      "Fold 10: Train AUC = 0.9894, Validation AUC = 0.9572\n",
      "\n",
      "Mean Train AUC: 0.9891\n",
      "Mean Validation AUC: 0.9521\n",
      "Mean accuracy 0.9513002131868822\n",
      "Fold 1: Train AUC = 0.9893, Validation AUC = 0.9415\n",
      "Fold 2: Train AUC = 0.9879, Validation AUC = 0.9515\n",
      "Fold 3: Train AUC = 0.9900, Validation AUC = 0.9502\n",
      "Fold 4: Train AUC = 0.9893, Validation AUC = 0.9524\n",
      "Fold 5: Train AUC = 0.9889, Validation AUC = 0.9531\n",
      "Fold 6: Train AUC = 0.9888, Validation AUC = 0.9573\n",
      "Fold 7: Train AUC = 0.9888, Validation AUC = 0.9518\n",
      "Fold 8: Train AUC = 0.9887, Validation AUC = 0.9559\n",
      "Fold 9: Train AUC = 0.9887, Validation AUC = 0.9618\n"
     ]
    },
    {
     "name": "stderr",
     "output_type": "stream",
     "text": [
      "[I 2024-10-18 17:25:59,051] Trial 6 finished with value: 0.9522947221823947 and parameters: {'eta': 0.02994473901906511, 'alpha': 0.04656272857204571, 'num_leaves': 10, 'learning_rate': 0.0006290455417729347, 'max_depth': 5, 'n_estimators': 100, 'weights': 173.99330318532847}. Best is trial 4 with value: 0.9529153995172187.\n"
     ]
    },
    {
     "name": "stdout",
     "output_type": "stream",
     "text": [
      "Fold 10: Train AUC = 0.9891, Validation AUC = 0.9475\n",
      "\n",
      "Mean Train AUC: 0.9889\n",
      "Mean Validation AUC: 0.9523\n",
      "Mean accuracy 0.9511468186539103\n",
      "Fold 1: Train AUC = 0.9897, Validation AUC = 0.9474\n",
      "Fold 2: Train AUC = 0.9891, Validation AUC = 0.9596\n",
      "Fold 3: Train AUC = 0.9896, Validation AUC = 0.9633\n",
      "Fold 4: Train AUC = 0.9884, Validation AUC = 0.9540\n",
      "Fold 5: Train AUC = 0.9892, Validation AUC = 0.9491\n",
      "Fold 6: Train AUC = 0.9899, Validation AUC = 0.9504\n",
      "Fold 7: Train AUC = 0.9893, Validation AUC = 0.9530\n",
      "Fold 8: Train AUC = 0.9896, Validation AUC = 0.9515\n",
      "Fold 9: Train AUC = 0.9885, Validation AUC = 0.9478\n"
     ]
    },
    {
     "name": "stderr",
     "output_type": "stream",
     "text": [
      "[I 2024-10-18 17:26:02,507] Trial 7 finished with value: 0.9529405903468717 and parameters: {'eta': 0.0023207581497342498, 'alpha': 0.2795036216689659, 'num_leaves': 20, 'learning_rate': 0.0008520433061078877, 'max_depth': 5, 'n_estimators': 100, 'weights': 15.491388724936051}. Best is trial 7 with value: 0.9529405903468717.\n"
     ]
    },
    {
     "name": "stdout",
     "output_type": "stream",
     "text": [
      "Fold 10: Train AUC = 0.9898, Validation AUC = 0.9532\n",
      "\n",
      "Mean Train AUC: 0.9893\n",
      "Mean Validation AUC: 0.9529\n",
      "Mean accuracy 0.9510785534926944\n",
      "Fold 1: Train AUC = 0.9889, Validation AUC = 0.9520\n",
      "Fold 2: Train AUC = 0.9894, Validation AUC = 0.9573\n",
      "Fold 3: Train AUC = 0.9894, Validation AUC = 0.9568\n",
      "Fold 4: Train AUC = 0.9894, Validation AUC = 0.9499\n",
      "Fold 5: Train AUC = 0.9893, Validation AUC = 0.9542\n",
      "Fold 6: Train AUC = 0.9895, Validation AUC = 0.9486\n",
      "Fold 7: Train AUC = 0.9875, Validation AUC = 0.9536\n",
      "Fold 8: Train AUC = 0.9895, Validation AUC = 0.9445\n",
      "Fold 9: Train AUC = 0.9890, Validation AUC = 0.9585\n"
     ]
    },
    {
     "name": "stderr",
     "output_type": "stream",
     "text": [
      "[I 2024-10-18 17:26:05,964] Trial 8 finished with value: 0.9528104404461148 and parameters: {'eta': 0.0005037673764503309, 'alpha': 0.4097750006353432, 'num_leaves': 10, 'learning_rate': 0.02938659024987495, 'max_depth': 11, 'n_estimators': 100, 'weights': 131.12954721595216}. Best is trial 7 with value: 0.9529405903468717.\n"
     ]
    },
    {
     "name": "stdout",
     "output_type": "stream",
     "text": [
      "Fold 10: Train AUC = 0.9895, Validation AUC = 0.9527\n",
      "\n",
      "Mean Train AUC: 0.9891\n",
      "Mean Validation AUC: 0.9528\n",
      "Mean accuracy 0.9513683184288603\n",
      "Fold 1: Train AUC = 0.9881, Validation AUC = 0.9555\n",
      "Fold 2: Train AUC = 0.9895, Validation AUC = 0.9489\n",
      "Fold 3: Train AUC = 0.9888, Validation AUC = 0.9491\n",
      "Fold 4: Train AUC = 0.9884, Validation AUC = 0.9540\n",
      "Fold 5: Train AUC = 0.9895, Validation AUC = 0.9532\n",
      "Fold 6: Train AUC = 0.9892, Validation AUC = 0.9596\n",
      "Fold 7: Train AUC = 0.9885, Validation AUC = 0.9546\n",
      "Fold 8: Train AUC = 0.9886, Validation AUC = 0.9615\n",
      "Fold 9: Train AUC = 0.9898, Validation AUC = 0.9444\n"
     ]
    },
    {
     "name": "stderr",
     "output_type": "stream",
     "text": [
      "[I 2024-10-18 17:26:09,417] Trial 9 finished with value: 0.9527229440964173 and parameters: {'eta': 0.0028550812328957203, 'alpha': 0.01316623673717187, 'num_leaves': 100, 'learning_rate': 0.02343767957237066, 'max_depth': 7, 'n_estimators': 100, 'weights': 730.7299197852178}. Best is trial 7 with value: 0.9529405903468717.\n"
     ]
    },
    {
     "name": "stdout",
     "output_type": "stream",
     "text": [
      "Fold 10: Train AUC = 0.9890, Validation AUC = 0.9464\n",
      "\n",
      "Mean Train AUC: 0.9889\n",
      "Mean Validation AUC: 0.9527\n",
      "Mean accuracy 0.9515901235041735\n",
      "Fold 1: Train AUC = 0.9888, Validation AUC = 0.9485\n",
      "Fold 2: Train AUC = 0.9890, Validation AUC = 0.9530\n",
      "Fold 3: Train AUC = 0.9892, Validation AUC = 0.9531\n",
      "Fold 4: Train AUC = 0.9893, Validation AUC = 0.9484\n",
      "Fold 5: Train AUC = 0.9891, Validation AUC = 0.9459\n",
      "Fold 6: Train AUC = 0.9900, Validation AUC = 0.9554\n",
      "Fold 7: Train AUC = 0.9889, Validation AUC = 0.9573\n",
      "Fold 8: Train AUC = 0.9896, Validation AUC = 0.9552\n",
      "Fold 9: Train AUC = 0.9890, Validation AUC = 0.9557\n"
     ]
    },
    {
     "name": "stderr",
     "output_type": "stream",
     "text": [
      "[I 2024-10-18 17:26:12,830] Trial 10 finished with value: 0.9522411006696985 and parameters: {'eta': 0.00015411873759734468, 'alpha': 6.982536540249066, 'num_leaves': 50, 'learning_rate': 0.4727860205577452, 'max_depth': 13, 'n_estimators': 500, 'weights': 544.7806523117534}. Best is trial 7 with value: 0.9529405903468717.\n"
     ]
    },
    {
     "name": "stdout",
     "output_type": "stream",
     "text": [
      "Fold 10: Train AUC = 0.9895, Validation AUC = 0.9499\n",
      "\n",
      "Mean Train AUC: 0.9893\n",
      "Mean Validation AUC: 0.9522\n",
      "Mean accuracy 0.9507546414378079\n",
      "Fold 1: Train AUC = 0.9893, Validation AUC = 0.9539\n",
      "Fold 2: Train AUC = 0.9884, Validation AUC = 0.9554\n",
      "Fold 3: Train AUC = 0.9891, Validation AUC = 0.9532\n",
      "Fold 4: Train AUC = 0.9887, Validation AUC = 0.9479\n",
      "Fold 5: Train AUC = 0.9892, Validation AUC = 0.9502\n",
      "Fold 6: Train AUC = 0.9894, Validation AUC = 0.9537\n",
      "Fold 7: Train AUC = 0.9886, Validation AUC = 0.9540\n",
      "Fold 8: Train AUC = 0.9881, Validation AUC = 0.9512\n",
      "Fold 9: Train AUC = 0.9890, Validation AUC = 0.9527\n"
     ]
    },
    {
     "name": "stderr",
     "output_type": "stream",
     "text": [
      "[I 2024-10-18 17:26:16,321] Trial 11 finished with value: 0.953223922385626 and parameters: {'eta': 0.01739938932209874, 'alpha': 0.05498912406706016, 'num_leaves': 30, 'learning_rate': 0.18825677519321055, 'max_depth': 7, 'n_estimators': 10, 'weights': 4.008285611886947}. Best is trial 11 with value: 0.953223922385626.\n"
     ]
    },
    {
     "name": "stdout",
     "output_type": "stream",
     "text": [
      "Fold 10: Train AUC = 0.9888, Validation AUC = 0.9601\n",
      "\n",
      "Mean Train AUC: 0.9889\n",
      "Mean Validation AUC: 0.9532\n",
      "Mean accuracy 0.9515731284506209\n",
      "Fold 1: Train AUC = 0.9887, Validation AUC = 0.9472\n",
      "Fold 2: Train AUC = 0.9892, Validation AUC = 0.9524\n",
      "Fold 3: Train AUC = 0.9895, Validation AUC = 0.9433\n",
      "Fold 4: Train AUC = 0.9897, Validation AUC = 0.9523\n",
      "Fold 5: Train AUC = 0.9887, Validation AUC = 0.9518\n",
      "Fold 6: Train AUC = 0.9894, Validation AUC = 0.9563\n",
      "Fold 7: Train AUC = 0.9894, Validation AUC = 0.9525\n",
      "Fold 8: Train AUC = 0.9885, Validation AUC = 0.9621\n",
      "Fold 9: Train AUC = 0.9891, Validation AUC = 0.9502\n"
     ]
    },
    {
     "name": "stderr",
     "output_type": "stream",
     "text": [
      "[I 2024-10-18 17:26:20,027] Trial 12 finished with value: 0.9524384732004808 and parameters: {'eta': 0.010912206474654598, 'alpha': 0.10081277922829059, 'num_leaves': 30, 'learning_rate': 0.32518361157420644, 'max_depth': 7, 'n_estimators': 10, 'weights': 12.375408290883001}. Best is trial 11 with value: 0.953223922385626.\n"
     ]
    },
    {
     "name": "stdout",
     "output_type": "stream",
     "text": [
      "Fold 10: Train AUC = 0.9877, Validation AUC = 0.9563\n",
      "\n",
      "Mean Train AUC: 0.9890\n",
      "Mean Validation AUC: 0.9524\n",
      "Mean accuracy 0.9509080563241371\n",
      "Fold 1: Train AUC = 0.9893, Validation AUC = 0.9503\n",
      "Fold 2: Train AUC = 0.9891, Validation AUC = 0.9582\n",
      "Fold 3: Train AUC = 0.9890, Validation AUC = 0.9492\n",
      "Fold 4: Train AUC = 0.9893, Validation AUC = 0.9571\n",
      "Fold 5: Train AUC = 0.9902, Validation AUC = 0.9496\n",
      "Fold 6: Train AUC = 0.9888, Validation AUC = 0.9503\n",
      "Fold 7: Train AUC = 0.9889, Validation AUC = 0.9538\n",
      "Fold 8: Train AUC = 0.9894, Validation AUC = 0.9525\n",
      "Fold 9: Train AUC = 0.9889, Validation AUC = 0.9529\n"
     ]
    },
    {
     "name": "stderr",
     "output_type": "stream",
     "text": [
      "[I 2024-10-18 17:26:23,460] Trial 13 finished with value: 0.952325274716628 and parameters: {'eta': 0.7822597164986049, 'alpha': 0.13488516667352174, 'num_leaves': 30, 'learning_rate': 0.09863155739470814, 'max_depth': 5, 'n_estimators': 1000, 'weights': 423.547986294927}. Best is trial 11 with value: 0.953223922385626.\n"
     ]
    },
    {
     "name": "stdout",
     "output_type": "stream",
     "text": [
      "Fold 10: Train AUC = 0.9890, Validation AUC = 0.9494\n",
      "\n",
      "Mean Train AUC: 0.9892\n",
      "Mean Validation AUC: 0.9523\n",
      "Mean accuracy 0.9504646729680661\n",
      "Fold 1: Train AUC = 0.9894, Validation AUC = 0.9540\n",
      "Fold 2: Train AUC = 0.9886, Validation AUC = 0.9530\n",
      "Fold 3: Train AUC = 0.9892, Validation AUC = 0.9525\n",
      "Fold 4: Train AUC = 0.9891, Validation AUC = 0.9505\n",
      "Fold 5: Train AUC = 0.9893, Validation AUC = 0.9585\n",
      "Fold 6: Train AUC = 0.9894, Validation AUC = 0.9539\n",
      "Fold 7: Train AUC = 0.9898, Validation AUC = 0.9488\n",
      "Fold 8: Train AUC = 0.9886, Validation AUC = 0.9513\n",
      "Fold 9: Train AUC = 0.9892, Validation AUC = 0.9501\n"
     ]
    },
    {
     "name": "stderr",
     "output_type": "stream",
     "text": [
      "[I 2024-10-18 17:26:27,087] Trial 14 finished with value: 0.952382785382809 and parameters: {'eta': 0.002022701765525708, 'alpha': 0.009236436779346043, 'num_leaves': 40, 'learning_rate': 0.00016098738011213192, 'max_depth': 13, 'n_estimators': 20, 'weights': 12.038000658416765}. Best is trial 11 with value: 0.953223922385626.\n"
     ]
    },
    {
     "name": "stdout",
     "output_type": "stream",
     "text": [
      "Fold 10: Train AUC = 0.9892, Validation AUC = 0.9511\n",
      "\n",
      "Mean Train AUC: 0.9892\n",
      "Mean Validation AUC: 0.9524\n",
      "Mean accuracy 0.9513172693005076\n",
      "Fold 1: Train AUC = 0.9886, Validation AUC = 0.9516\n",
      "Fold 2: Train AUC = 0.9889, Validation AUC = 0.9595\n",
      "Fold 3: Train AUC = 0.9892, Validation AUC = 0.9487\n",
      "Fold 4: Train AUC = 0.9889, Validation AUC = 0.9473\n",
      "Fold 5: Train AUC = 0.9890, Validation AUC = 0.9513\n",
      "Fold 6: Train AUC = 0.9878, Validation AUC = 0.9633\n",
      "Fold 7: Train AUC = 0.9886, Validation AUC = 0.9447\n",
      "Fold 8: Train AUC = 0.9886, Validation AUC = 0.9491\n",
      "Fold 9: Train AUC = 0.9885, Validation AUC = 0.9543\n"
     ]
    },
    {
     "name": "stderr",
     "output_type": "stream",
     "text": [
      "[I 2024-10-18 17:26:30,935] Trial 15 finished with value: 0.9524360088849229 and parameters: {'eta': 0.009146937902152215, 'alpha': 0.20703241932726507, 'num_leaves': 30, 'learning_rate': 0.1177514764726738, 'max_depth': 7, 'n_estimators': 500, 'weights': 514.2117513489035}. Best is trial 11 with value: 0.953223922385626.\n"
     ]
    },
    {
     "name": "stdout",
     "output_type": "stream",
     "text": [
      "Fold 10: Train AUC = 0.9898, Validation AUC = 0.9545\n",
      "\n",
      "Mean Train AUC: 0.9888\n",
      "Mean Validation AUC: 0.9524\n",
      "Mean accuracy 0.9510444819721589\n",
      "Fold 1: Train AUC = 0.9893, Validation AUC = 0.9544\n",
      "Fold 2: Train AUC = 0.9885, Validation AUC = 0.9517\n",
      "Fold 3: Train AUC = 0.9892, Validation AUC = 0.9492\n",
      "Fold 4: Train AUC = 0.9895, Validation AUC = 0.9512\n",
      "Fold 5: Train AUC = 0.9896, Validation AUC = 0.9537\n",
      "Fold 6: Train AUC = 0.9891, Validation AUC = 0.9475\n",
      "Fold 7: Train AUC = 0.9897, Validation AUC = 0.9536\n",
      "Fold 8: Train AUC = 0.9891, Validation AUC = 0.9582\n",
      "Fold 9: Train AUC = 0.9888, Validation AUC = 0.9506\n"
     ]
    },
    {
     "name": "stderr",
     "output_type": "stream",
     "text": [
      "[I 2024-10-18 17:26:35,973] Trial 16 finished with value: 0.9521463718620001 and parameters: {'eta': 0.01966285494297037, 'alpha': 0.04670654589577646, 'num_leaves': 50, 'learning_rate': 0.0001036330537945705, 'max_depth': 5, 'n_estimators': 10, 'weights': 314.40950479537173}. Best is trial 11 with value: 0.953223922385626.\n"
     ]
    },
    {
     "name": "stdout",
     "output_type": "stream",
     "text": [
      "Fold 10: Train AUC = 0.9888, Validation AUC = 0.9513\n",
      "\n",
      "Mean Train AUC: 0.9892\n",
      "Mean Validation AUC: 0.9521\n",
      "Mean accuracy 0.9513512972067053\n",
      "Fold 1: Train AUC = 0.9887, Validation AUC = 0.9564\n",
      "Fold 2: Train AUC = 0.9896, Validation AUC = 0.9492\n",
      "Fold 3: Train AUC = 0.9889, Validation AUC = 0.9557\n",
      "Fold 4: Train AUC = 0.9889, Validation AUC = 0.9482\n",
      "Fold 5: Train AUC = 0.9891, Validation AUC = 0.9510\n",
      "Fold 6: Train AUC = 0.9901, Validation AUC = 0.9571\n",
      "Fold 7: Train AUC = 0.9875, Validation AUC = 0.9543\n",
      "Fold 8: Train AUC = 0.9888, Validation AUC = 0.9423\n",
      "Fold 9: Train AUC = 0.9881, Validation AUC = 0.9605\n"
     ]
    },
    {
     "name": "stderr",
     "output_type": "stream",
     "text": [
      "[I 2024-10-18 17:26:40,348] Trial 17 finished with value: 0.951711283271209 and parameters: {'eta': 0.0013703371141613422, 'alpha': 1.996379095524526, 'num_leaves': 40, 'learning_rate': 0.0015615236498323474, 'max_depth': 7, 'n_estimators': 100, 'weights': 630.1937721220544}. Best is trial 11 with value: 0.953223922385626.\n"
     ]
    },
    {
     "name": "stdout",
     "output_type": "stream",
     "text": [
      "Fold 10: Train AUC = 0.9901, Validation AUC = 0.9424\n",
      "\n",
      "Mean Train AUC: 0.9890\n",
      "Mean Validation AUC: 0.9517\n",
      "Mean accuracy 0.95095914034396\n",
      "Fold 1: Train AUC = 0.9887, Validation AUC = 0.9534\n",
      "Fold 2: Train AUC = 0.9898, Validation AUC = 0.9531\n",
      "Fold 3: Train AUC = 0.9887, Validation AUC = 0.9571\n",
      "Fold 4: Train AUC = 0.9889, Validation AUC = 0.9573\n",
      "Fold 5: Train AUC = 0.9892, Validation AUC = 0.9478\n",
      "Fold 6: Train AUC = 0.9896, Validation AUC = 0.9453\n",
      "Fold 7: Train AUC = 0.9892, Validation AUC = 0.9513\n",
      "Fold 8: Train AUC = 0.9892, Validation AUC = 0.9456\n",
      "Fold 9: Train AUC = 0.9882, Validation AUC = 0.9618\n"
     ]
    },
    {
     "name": "stderr",
     "output_type": "stream",
     "text": [
      "[I 2024-10-18 17:26:44,431] Trial 18 finished with value: 0.952415764127873 and parameters: {'eta': 0.15545481770647931, 'alpha': 0.005940873785820688, 'num_leaves': 20, 'learning_rate': 0.8657210466905658, 'max_depth': 5, 'n_estimators': 100, 'weights': 983.262388052545}. Best is trial 11 with value: 0.953223922385626.\n"
     ]
    },
    {
     "name": "stdout",
     "output_type": "stream",
     "text": [
      "Fold 10: Train AUC = 0.9879, Validation AUC = 0.9514\n",
      "\n",
      "Mean Train AUC: 0.9890\n",
      "Mean Validation AUC: 0.9524\n",
      "Mean accuracy 0.9513683823965554\n",
      "Fold 1: Train AUC = 0.9887, Validation AUC = 0.9523\n",
      "Fold 2: Train AUC = 0.9890, Validation AUC = 0.9552\n",
      "Fold 3: Train AUC = 0.9892, Validation AUC = 0.9572\n",
      "Fold 4: Train AUC = 0.9893, Validation AUC = 0.9480\n",
      "Fold 5: Train AUC = 0.9887, Validation AUC = 0.9509\n",
      "Fold 6: Train AUC = 0.9893, Validation AUC = 0.9472\n",
      "Fold 7: Train AUC = 0.9883, Validation AUC = 0.9548\n",
      "Fold 8: Train AUC = 0.9896, Validation AUC = 0.9541\n",
      "Fold 9: Train AUC = 0.9885, Validation AUC = 0.9529\n"
     ]
    },
    {
     "name": "stderr",
     "output_type": "stream",
     "text": [
      "[I 2024-10-18 17:26:48,372] Trial 19 finished with value: 0.9526081065956309 and parameters: {'eta': 0.006197512368007036, 'alpha': 0.03668388801762592, 'num_leaves': 30, 'learning_rate': 0.06606514788311835, 'max_depth': 11, 'n_estimators': 10, 'weights': 395.37812967749056}. Best is trial 11 with value: 0.953223922385626.\n"
     ]
    },
    {
     "name": "stdout",
     "output_type": "stream",
     "text": [
      "Fold 10: Train AUC = 0.9885, Validation AUC = 0.9538\n",
      "\n",
      "Mean Train AUC: 0.9889\n",
      "Mean Validation AUC: 0.9526\n",
      "Mean accuracy 0.9515047557073721\n",
      "Fold 1: Train AUC = 0.9893, Validation AUC = 0.9575\n",
      "Fold 2: Train AUC = 0.9900, Validation AUC = 0.9519\n",
      "Fold 3: Train AUC = 0.9886, Validation AUC = 0.9519\n",
      "Fold 4: Train AUC = 0.9889, Validation AUC = 0.9486\n",
      "Fold 5: Train AUC = 0.9896, Validation AUC = 0.9533\n",
      "Fold 6: Train AUC = 0.9894, Validation AUC = 0.9561\n",
      "Fold 7: Train AUC = 0.9901, Validation AUC = 0.9455\n",
      "Fold 8: Train AUC = 0.9885, Validation AUC = 0.9555\n",
      "Fold 9: Train AUC = 0.9885, Validation AUC = 0.9479\n"
     ]
    },
    {
     "name": "stderr",
     "output_type": "stream",
     "text": [
      "[I 2024-10-18 17:26:52,283] Trial 20 finished with value: 0.9525959180588967 and parameters: {'eta': 0.00010370789981999526, 'alpha': 0.2652195035272885, 'num_leaves': 20, 'learning_rate': 0.005897317466198643, 'max_depth': 13, 'n_estimators': 20, 'weights': 94.76410774905362}. Best is trial 11 with value: 0.953223922385626.\n"
     ]
    },
    {
     "name": "stdout",
     "output_type": "stream",
     "text": [
      "Fold 10: Train AUC = 0.9883, Validation AUC = 0.9577\n",
      "\n",
      "Mean Train AUC: 0.9891\n",
      "Mean Validation AUC: 0.9526\n",
      "Mean accuracy 0.95169245437068\n",
      "Fold 1: Train AUC = 0.9878, Validation AUC = 0.9519\n",
      "Fold 2: Train AUC = 0.9888, Validation AUC = 0.9569\n",
      "Fold 3: Train AUC = 0.9895, Validation AUC = 0.9522\n",
      "Fold 4: Train AUC = 0.9894, Validation AUC = 0.9503\n",
      "Fold 5: Train AUC = 0.9894, Validation AUC = 0.9508\n",
      "Fold 6: Train AUC = 0.9890, Validation AUC = 0.9524\n",
      "Fold 7: Train AUC = 0.9893, Validation AUC = 0.9530\n",
      "Fold 8: Train AUC = 0.9891, Validation AUC = 0.9529\n",
      "Fold 9: Train AUC = 0.9894, Validation AUC = 0.9494\n"
     ]
    },
    {
     "name": "stderr",
     "output_type": "stream",
     "text": [
      "[I 2024-10-18 17:26:56,502] Trial 21 finished with value: 0.9521103493619224 and parameters: {'eta': 0.051278170730630235, 'alpha': 0.02058523925095928, 'num_leaves': 70, 'learning_rate': 0.016088001888887517, 'max_depth': 7, 'n_estimators': 10, 'weights': 242.06827449609762}. Best is trial 11 with value: 0.953223922385626.\n"
     ]
    },
    {
     "name": "stdout",
     "output_type": "stream",
     "text": [
      "Fold 10: Train AUC = 0.9894, Validation AUC = 0.9512\n",
      "\n",
      "Mean Train AUC: 0.9891\n",
      "Mean Validation AUC: 0.9521\n",
      "Mean accuracy 0.9511297480021724\n",
      "Fold 1: Train AUC = 0.9891, Validation AUC = 0.9600\n",
      "Fold 2: Train AUC = 0.9896, Validation AUC = 0.9516\n",
      "Fold 3: Train AUC = 0.9892, Validation AUC = 0.9545\n",
      "Fold 4: Train AUC = 0.9893, Validation AUC = 0.9482\n",
      "Fold 5: Train AUC = 0.9893, Validation AUC = 0.9452\n",
      "Fold 6: Train AUC = 0.9887, Validation AUC = 0.9518\n",
      "Fold 7: Train AUC = 0.9884, Validation AUC = 0.9537\n",
      "Fold 8: Train AUC = 0.9888, Validation AUC = 0.9516\n",
      "Fold 9: Train AUC = 0.9895, Validation AUC = 0.9554\n"
     ]
    },
    {
     "name": "stderr",
     "output_type": "stream",
     "text": [
      "[I 2024-10-18 17:27:00,908] Trial 22 finished with value: 0.9518679277670256 and parameters: {'eta': 0.016312335551782048, 'alpha': 0.003915596351795996, 'num_leaves': 70, 'learning_rate': 0.04980380200405316, 'max_depth': 7, 'n_estimators': 10, 'weights': 103.23260652708487}. Best is trial 11 with value: 0.953223922385626.\n"
     ]
    },
    {
     "name": "stdout",
     "output_type": "stream",
     "text": [
      "Fold 10: Train AUC = 0.9884, Validation AUC = 0.9467\n",
      "\n",
      "Mean Train AUC: 0.9890\n",
      "Mean Validation AUC: 0.9519\n",
      "Mean accuracy 0.9516582927138468\n",
      "Fold 1: Train AUC = 0.9887, Validation AUC = 0.9494\n",
      "Fold 2: Train AUC = 0.9898, Validation AUC = 0.9492\n",
      "Fold 3: Train AUC = 0.9888, Validation AUC = 0.9489\n",
      "Fold 4: Train AUC = 0.9894, Validation AUC = 0.9515\n",
      "Fold 5: Train AUC = 0.9886, Validation AUC = 0.9609\n",
      "Fold 6: Train AUC = 0.9879, Validation AUC = 0.9546\n",
      "Fold 7: Train AUC = 0.9894, Validation AUC = 0.9512\n",
      "Fold 8: Train AUC = 0.9887, Validation AUC = 0.9463\n",
      "Fold 9: Train AUC = 0.9888, Validation AUC = 0.9564\n"
     ]
    },
    {
     "name": "stderr",
     "output_type": "stream",
     "text": [
      "[I 2024-10-18 17:27:05,074] Trial 23 finished with value: 0.9515443124630775 and parameters: {'eta': 0.08078541711443869, 'alpha': 0.030704915031514977, 'num_leaves': 70, 'learning_rate': 0.23833471021053695, 'max_depth': 7, 'n_estimators': 10, 'weights': 249.86825067642434}. Best is trial 11 with value: 0.953223922385626.\n"
     ]
    },
    {
     "name": "stdout",
     "output_type": "stream",
     "text": [
      "Fold 10: Train AUC = 0.9891, Validation AUC = 0.9471\n",
      "\n",
      "Mean Train AUC: 0.9889\n",
      "Mean Validation AUC: 0.9515\n",
      "Mean accuracy 0.9509080650470045\n",
      "Fold 1: Train AUC = 0.9896, Validation AUC = 0.9543\n",
      "Fold 2: Train AUC = 0.9892, Validation AUC = 0.9522\n",
      "Fold 3: Train AUC = 0.9890, Validation AUC = 0.9567\n",
      "Fold 4: Train AUC = 0.9886, Validation AUC = 0.9544\n",
      "Fold 5: Train AUC = 0.9896, Validation AUC = 0.9496\n",
      "Fold 6: Train AUC = 0.9886, Validation AUC = 0.9533\n",
      "Fold 7: Train AUC = 0.9890, Validation AUC = 0.9467\n",
      "Fold 8: Train AUC = 0.9896, Validation AUC = 0.9568\n",
      "Fold 9: Train AUC = 0.9891, Validation AUC = 0.9487\n"
     ]
    },
    {
     "name": "stderr",
     "output_type": "stream",
     "text": [
      "[I 2024-10-18 17:27:09,490] Trial 24 finished with value: 0.9528488507611319 and parameters: {'eta': 0.03711674258485659, 'alpha': 0.08111577412136595, 'num_leaves': 70, 'learning_rate': 0.01016141241301903, 'max_depth': 7, 'n_estimators': 10, 'weights': 72.96959965964481}. Best is trial 11 with value: 0.953223922385626.\n"
     ]
    },
    {
     "name": "stdout",
     "output_type": "stream",
     "text": [
      "Fold 10: Train AUC = 0.9889, Validation AUC = 0.9557\n",
      "\n",
      "Mean Train AUC: 0.9891\n",
      "Mean Validation AUC: 0.9528\n",
      "Mean accuracy 0.9507885850229527\n",
      "Fold 1: Train AUC = 0.9890, Validation AUC = 0.9456\n",
      "Fold 2: Train AUC = 0.9893, Validation AUC = 0.9512\n",
      "Fold 3: Train AUC = 0.9884, Validation AUC = 0.9511\n",
      "Fold 4: Train AUC = 0.9891, Validation AUC = 0.9556\n",
      "Fold 5: Train AUC = 0.9889, Validation AUC = 0.9516\n",
      "Fold 6: Train AUC = 0.9892, Validation AUC = 0.9545\n",
      "Fold 7: Train AUC = 0.9895, Validation AUC = 0.9484\n",
      "Fold 8: Train AUC = 0.9896, Validation AUC = 0.9502\n",
      "Fold 9: Train AUC = 0.9889, Validation AUC = 0.9543\n"
     ]
    },
    {
     "name": "stderr",
     "output_type": "stream",
     "text": [
      "[I 2024-10-18 17:27:14,093] Trial 25 finished with value: 0.9516926376415015 and parameters: {'eta': 0.1439044140274947, 'alpha': 0.01657054024889464, 'num_leaves': 30, 'learning_rate': 0.0017282801468335549, 'max_depth': 5, 'n_estimators': 1000, 'weights': 217.26660984403287}. Best is trial 11 with value: 0.953223922385626.\n"
     ]
    },
    {
     "name": "stdout",
     "output_type": "stream",
     "text": [
      "Fold 10: Train AUC = 0.9885, Validation AUC = 0.9545\n",
      "\n",
      "Mean Train AUC: 0.9890\n",
      "Mean Validation AUC: 0.9517\n",
      "Mean accuracy 0.9508057603491007\n",
      "Fold 1: Train AUC = 0.9887, Validation AUC = 0.9479\n",
      "Fold 2: Train AUC = 0.9886, Validation AUC = 0.9659\n",
      "Fold 3: Train AUC = 0.9896, Validation AUC = 0.9550\n",
      "Fold 4: Train AUC = 0.9885, Validation AUC = 0.9531\n",
      "Fold 5: Train AUC = 0.9884, Validation AUC = 0.9449\n",
      "Fold 6: Train AUC = 0.9889, Validation AUC = 0.9486\n",
      "Fold 7: Train AUC = 0.9891, Validation AUC = 0.9510\n",
      "Fold 8: Train AUC = 0.9894, Validation AUC = 0.9564\n",
      "Fold 9: Train AUC = 0.9891, Validation AUC = 0.9503\n"
     ]
    },
    {
     "name": "stderr",
     "output_type": "stream",
     "text": [
      "[I 2024-10-18 17:27:18,965] Trial 26 finished with value: 0.9524865085038886 and parameters: {'eta': 0.38418805543783724, 'alpha': 1.2300334980504246, 'num_leaves': 40, 'learning_rate': 0.1398706240919133, 'max_depth': 7, 'n_estimators': 500, 'weights': 94.98756360146605}. Best is trial 11 with value: 0.953223922385626.\n"
     ]
    },
    {
     "name": "stdout",
     "output_type": "stream",
     "text": [
      "Fold 10: Train AUC = 0.9891, Validation AUC = 0.9519\n",
      "\n",
      "Mean Train AUC: 0.9889\n",
      "Mean Validation AUC: 0.9525\n",
      "Mean accuracy 0.9511466034898449\n",
      "Fold 1: Train AUC = 0.9890, Validation AUC = 0.9513\n",
      "Fold 2: Train AUC = 0.9892, Validation AUC = 0.9485\n",
      "Fold 3: Train AUC = 0.9891, Validation AUC = 0.9605\n",
      "Fold 4: Train AUC = 0.9893, Validation AUC = 0.9536\n",
      "Fold 5: Train AUC = 0.9890, Validation AUC = 0.9562\n",
      "Fold 6: Train AUC = 0.9886, Validation AUC = 0.9591\n",
      "Fold 7: Train AUC = 0.9893, Validation AUC = 0.9562\n",
      "Fold 8: Train AUC = 0.9894, Validation AUC = 0.9506\n",
      "Fold 9: Train AUC = 0.9898, Validation AUC = 0.9435\n"
     ]
    },
    {
     "name": "stderr",
     "output_type": "stream",
     "text": [
      "[I 2024-10-18 17:27:25,165] Trial 27 finished with value: 0.9529126868072275 and parameters: {'eta': 0.00118577238336622, 'alpha': 0.11151997742291117, 'num_leaves': 10, 'learning_rate': 0.0037128256789896947, 'max_depth': 7, 'n_estimators': 50, 'weights': 300.5264128834407}. Best is trial 11 with value: 0.953223922385626.\n"
     ]
    },
    {
     "name": "stdout",
     "output_type": "stream",
     "text": [
      "Fold 10: Train AUC = 0.9881, Validation AUC = 0.9496\n",
      "\n",
      "Mean Train AUC: 0.9891\n",
      "Mean Validation AUC: 0.9529\n",
      "Mean accuracy 0.9506693027172315\n",
      "Fold 1: Train AUC = 0.9889, Validation AUC = 0.9535\n",
      "Fold 2: Train AUC = 0.9891, Validation AUC = 0.9588\n",
      "Fold 3: Train AUC = 0.9889, Validation AUC = 0.9429\n",
      "Fold 4: Train AUC = 0.9885, Validation AUC = 0.9562\n",
      "Fold 5: Train AUC = 0.9889, Validation AUC = 0.9520\n",
      "Fold 6: Train AUC = 0.9888, Validation AUC = 0.9535\n",
      "Fold 7: Train AUC = 0.9894, Validation AUC = 0.9484\n",
      "Fold 8: Train AUC = 0.9893, Validation AUC = 0.9530\n",
      "Fold 9: Train AUC = 0.9894, Validation AUC = 0.9521\n"
     ]
    },
    {
     "name": "stderr",
     "output_type": "stream",
     "text": [
      "[I 2024-10-18 17:27:31,302] Trial 28 finished with value: 0.9530255554864677 and parameters: {'eta': 0.005583768933280717, 'alpha': 0.06483481176131302, 'num_leaves': 50, 'learning_rate': 0.038709414538856526, 'max_depth': 5, 'n_estimators': 100, 'weights': 57.4344866752775}. Best is trial 11 with value: 0.953223922385626.\n"
     ]
    },
    {
     "name": "stdout",
     "output_type": "stream",
     "text": [
      "Fold 10: Train AUC = 0.9875, Validation AUC = 0.9598\n",
      "\n",
      "Mean Train AUC: 0.9889\n",
      "Mean Validation AUC: 0.9530\n",
      "Mean accuracy 0.951538960978543\n",
      "Fold 1: Train AUC = 0.9895, Validation AUC = 0.9526\n",
      "Fold 2: Train AUC = 0.9895, Validation AUC = 0.9555\n",
      "Fold 3: Train AUC = 0.9896, Validation AUC = 0.9471\n",
      "Fold 4: Train AUC = 0.9887, Validation AUC = 0.9570\n",
      "Fold 5: Train AUC = 0.9890, Validation AUC = 0.9479\n",
      "Fold 6: Train AUC = 0.9891, Validation AUC = 0.9553\n",
      "Fold 7: Train AUC = 0.9886, Validation AUC = 0.9527\n",
      "Fold 8: Train AUC = 0.9893, Validation AUC = 0.9524\n",
      "Fold 9: Train AUC = 0.9888, Validation AUC = 0.9503\n"
     ]
    },
    {
     "name": "stderr",
     "output_type": "stream",
     "text": [
      "[I 2024-10-18 17:27:34,739] Trial 29 finished with value: 0.9525145354524737 and parameters: {'eta': 0.004506224016156223, 'alpha': 0.29992015271684264, 'num_leaves': 50, 'learning_rate': 0.8886599457066082, 'max_depth': 5, 'n_estimators': 100, 'weights': 160.50010272439448}. Best is trial 11 with value: 0.953223922385626.\n"
     ]
    },
    {
     "name": "stdout",
     "output_type": "stream",
     "text": [
      "Fold 10: Train AUC = 0.9889, Validation AUC = 0.9542\n",
      "\n",
      "Mean Train AUC: 0.9891\n",
      "Mean Validation AUC: 0.9525\n",
      "Mean accuracy 0.9508397533638284\n"
     ]
    }
   ],
   "source": [
    "import optuna \n",
    "def objective_2(trial):\n",
    "\n",
    "    xgboost_params = {\n",
    "        \"objective\" : \"binary:logistic\",\n",
    "        \"eval_metric\" : \"auc\",\n",
    "        \"device\" : \"cuda\",\n",
    "        \"eta\" : trial.suggest_loguniform(\"eta\", 1e-4, 1 ),\n",
    "        \"alpha\" : trial.suggest_loguniform(\"alpha\", 1e-3, 10),\n",
    "        \"num_leaves\" : trial.suggest_categorical(\"num_leaves\", [10,20,30,40,50,70, 100]),\n",
    "        \"learning_rate\" : trial.suggest_loguniform(\"learning_rate\", 1e-4, 1),\n",
    "        \"max_depth\" : trial.suggest_categorical(\"max_depth\", [5,7,9,11,13]),\n",
    "        \"n_estimators\" : trial.suggest_categorical(\"n_estimators\" , [10, 20, 50, 100, 500, 1000]),\n",
    "        \"weights\" : trial.suggest_uniform(\"weights\", 0, 1000)\n",
    "    }\n",
    "    model = xgb.XGBClassifier()\n",
    "    auc = train_and_test_model(train_data, model, print = False, model_paramaters= xgboost_params)\n",
    "    return auc\n",
    "\n",
    "study2 = optuna.create_study(direction=\"maximize\")\n",
    "study2.optimize(objective_2, n_trials = 30)\n",
    "\n",
    "\n"
   ]
  },
  {
   "cell_type": "code",
   "execution_count": 10,
   "metadata": {},
   "outputs": [],
   "source": [
    "study2.best_value\n",
    "\n",
    "\n",
    "best_model = xgb.XGBClassifier(**study2.best_params)\n",
    "best_model.fit(X = train_data.drop(\"loan_status\", axis = 1), y = train_data[\"loan_status\"])\n",
    "test_predictions = best_model.predict_proba(test_data.drop(\"id\", axis = 1))[:, 1]\n",
    "test_predictions_df = pd.DataFrame({\"id\": test_data[\"id\"], \"loan_status\" : test_predictions})\n",
    "test_predictions_df.to_csv(\"../Data/sample_submission.csv\", index = False)"
   ]
  },
  {
   "cell_type": "markdown",
   "metadata": {},
   "source": [
    "We can also try add paramaters like colsample by tree , scale pos weight and lambda to try get either better score."
   ]
  },
  {
   "cell_type": "code",
   "execution_count": 31,
   "metadata": {},
   "outputs": [],
   "source": [
    "def objective_3(trial):\n",
    "\n",
    "    xgboost_params = {\n",
    "        \"objective\" : \"binary:logistic\",\n",
    "        \"eval_metric\" : \"auc\",\n",
    "        \"device\" : \"cuda\",\n",
    "        \"eta\" : trial.suggest_loguniform(\"eta\", 1e-4, 1 ),\n",
    "        \"alpha\" : trial.suggest_loguniform(\"alpha\", 1e-3, 10),\n",
    "        \"num_leaves\" : trial.suggest_categorical(\"num_leaves\", [50,70, 85, 100]),\n",
    "        \"learning_rate\" : trial.suggest_loguniform(\"learning_rate\", 1e-4, 1),\n",
    "        \"max_depth\" : trial.suggest_int(\"max_depth\", 10,30),\n",
    "        \"n_estimators\" : trial.suggest_categorical(\"n_estimators\" , [ 500, 1000]),\n",
    "        \"weights\" : trial.suggest_uniform(\"weights\", 0, 1000),\n",
    "        \"colsample_bytree\" : trial.suggest_loguniform(\"colsample_bytree\", 1e-4, 1),\n",
    "        \"scale_pos_weight\" : trial.suggest_uniform(\"scale_pos_weight\", 1e-4, 1),\n",
    "        \"lambda\" : trial.suggest_loguniform(\"lambda\", 1e-4, 1),\n",
    "        \"jobs\" : -1\n",
    "    }\n",
    "    model = xgb.XGBClassifier()\n",
    "    auc = train_and_test_model(train_data, model, print = False, model_paramaters= xgboost_params, print_info=False)\n",
    "    return auc\n",
    "\n",
    "study3 = optuna.create_study(direction=\"maximize\")\n",
    "optuna.logging.set_verbosity(optuna.logging.WARNING)\n",
    "study3.optimize(objective_3, n_trials = 50, )\n",
    "\n",
    "\n"
   ]
  },
  {
   "cell_type": "code",
   "execution_count": 24,
   "metadata": {},
   "outputs": [],
   "source": [
    "study3.best_value\n",
    "\n",
    "\n",
    "best_model = xgb.XGBClassifier(**study3.best_params)\n",
    "best_model.fit(X = train_data.drop(\"loan_status\", axis = 1), y = train_data[\"loan_status\"])\n",
    "test_predictions_xgboost3 = best_model.predict_proba(test_data.drop(\"id\", axis = 1))[:, 1]\n",
    "test_predictions_df = pd.DataFrame({\"id\": test_data[\"id\"], \"loan_status\" : test_predictions_xgboost3})\n",
    "test_predictions_df.to_csv(\"../Data/sample_submission.csv\", index = False)"
   ]
  },
  {
   "cell_type": "markdown",
   "metadata": {},
   "source": [
    "## Catboost"
   ]
  },
  {
   "cell_type": "markdown",
   "metadata": {},
   "source": [
    "We will now try a model using catboost"
   ]
  },
  {
   "cell_type": "code",
   "execution_count": 41,
   "metadata": {},
   "outputs": [
    {
     "name": "stdout",
     "output_type": "stream",
     "text": [
      "Index(['Unnamed: 0', 'person_age', 'person_income', 'person_emp_length',\n",
      "       'loan_amnt', 'loan_int_rate', 'loan_percent_income',\n",
      "       'cb_person_cred_hist_length', 'loan_status',\n",
      "       'person_home_ownership_OTHER', 'person_home_ownership_OWN',\n",
      "       'person_home_ownership_RENT', 'loan_intent_EDUCATION',\n",
      "       'loan_intent_HOMEIMPROVEMENT', 'loan_intent_MEDICAL',\n",
      "       'loan_intent_PERSONAL', 'loan_intent_VENTURE', 'loan_grade_B',\n",
      "       'loan_grade_C', 'loan_grade_D', 'loan_grade_E', 'loan_grade_F',\n",
      "       'loan_grade_G', 'cb_person_default_on_file_Y', 'income_per_year_emp',\n",
      "       'risk_flag', 'utilsation', 'own_home_and_use_loan_for_h_i',\n",
      "       'int_per_y_cred', 'loan_per_y_cred'],\n",
      "      dtype='object')\n"
     ]
    }
   ],
   "source": [
    "print(train_data.columns)"
   ]
  },
  {
   "cell_type": "code",
   "execution_count": 43,
   "metadata": {},
   "outputs": [
    {
     "ename": "CatBoostError",
     "evalue": "features data: pandas.DataFrame column 'person_age' has dtype 'category' but is not in  cat_features list",
     "output_type": "error",
     "traceback": [
      "\u001b[1;31m---------------------------------------------------------------------------\u001b[0m",
      "\u001b[1;31mCatBoostError\u001b[0m                             Traceback (most recent call last)",
      "Cell \u001b[1;32mIn[43], line 6\u001b[0m\n\u001b[0;32m      3\u001b[0m test_data \u001b[38;5;241m=\u001b[39m test_data\u001b[38;5;241m.\u001b[39mapply(\u001b[38;5;28;01mlambda\u001b[39;00m x: x\u001b[38;5;241m.\u001b[39mastype(\u001b[38;5;124m'\u001b[39m\u001b[38;5;124mcategory\u001b[39m\u001b[38;5;124m'\u001b[39m))\u001b[38;5;241m.\u001b[39mdrop(\u001b[38;5;124m\"\u001b[39m\u001b[38;5;124mUnnamed: 0\u001b[39m\u001b[38;5;124m\"\u001b[39m, axis \u001b[38;5;241m=\u001b[39m \u001b[38;5;241m1\u001b[39m)\n\u001b[0;32m      4\u001b[0m model \u001b[38;5;241m=\u001b[39m catboost\u001b[38;5;241m.\u001b[39mCatBoostClassifier(loss_function \u001b[38;5;241m=\u001b[39m\u001b[38;5;124m\"\u001b[39m\u001b[38;5;124mLogloss\u001b[39m\u001b[38;5;124m\"\u001b[39m, verbose\u001b[38;5;241m=\u001b[39m\u001b[38;5;241m0\u001b[39m)\n\u001b[1;32m----> 6\u001b[0m val \u001b[38;5;241m=\u001b[39m \u001b[43mtrain_and_test_model\u001b[49m\u001b[43m(\u001b[49m\u001b[43mtrain_data\u001b[49m\u001b[43m,\u001b[49m\u001b[43m \u001b[49m\u001b[43mmodel\u001b[49m\u001b[43m,\u001b[49m\u001b[43m \u001b[49m\u001b[43mprint_info\u001b[49m\u001b[43m \u001b[49m\u001b[38;5;241;43m=\u001b[39;49m\u001b[43m \u001b[49m\u001b[38;5;28;43;01mFalse\u001b[39;49;00m\u001b[43m)\u001b[49m\n",
      "Cell \u001b[1;32mIn[38], line 30\u001b[0m, in \u001b[0;36mtrain_and_test_model\u001b[1;34m(train_data, model, print_info, **model_paramaters)\u001b[0m\n\u001b[0;32m     27\u001b[0m x_train_fold, x_val_fold \u001b[38;5;241m=\u001b[39m X_train\u001b[38;5;241m.\u001b[39miloc[train_ind], X_train\u001b[38;5;241m.\u001b[39miloc[val_inx]\n\u001b[0;32m     28\u001b[0m y_train_fold, y_val_fold \u001b[38;5;241m=\u001b[39m y_train\u001b[38;5;241m.\u001b[39miloc[train_ind], y_train\u001b[38;5;241m.\u001b[39miloc[val_inx]\n\u001b[1;32m---> 30\u001b[0m \u001b[43mmodel\u001b[49m\u001b[38;5;241;43m.\u001b[39;49m\u001b[43mfit\u001b[49m\u001b[43m(\u001b[49m\u001b[43mx_train_fold\u001b[49m\u001b[43m,\u001b[49m\u001b[43m \u001b[49m\u001b[43my_train_fold\u001b[49m\u001b[43m)\u001b[49m\n\u001b[0;32m     32\u001b[0m y_train_pred \u001b[38;5;241m=\u001b[39m model\u001b[38;5;241m.\u001b[39mpredict_proba(x_train_fold)[:, \u001b[38;5;241m1\u001b[39m]\n\u001b[0;32m     34\u001b[0m train_auc \u001b[38;5;241m=\u001b[39m roc_auc_score(y_train_fold, y_train_pred)\n",
      "File \u001b[1;32mc:\\Users\\jackg\\AppData\\Local\\Programs\\Python\\Python312\\Lib\\site-packages\\catboost\\core.py:5245\u001b[0m, in \u001b[0;36mCatBoostClassifier.fit\u001b[1;34m(self, X, y, cat_features, text_features, embedding_features, graph, sample_weight, baseline, use_best_model, eval_set, verbose, logging_level, plot, plot_file, column_description, verbose_eval, metric_period, silent, early_stopping_rounds, save_snapshot, snapshot_file, snapshot_interval, init_model, callbacks, log_cout, log_cerr)\u001b[0m\n\u001b[0;32m   5242\u001b[0m \u001b[38;5;28;01mif\u001b[39;00m \u001b[38;5;124m'\u001b[39m\u001b[38;5;124mloss_function\u001b[39m\u001b[38;5;124m'\u001b[39m \u001b[38;5;129;01min\u001b[39;00m params:\n\u001b[0;32m   5243\u001b[0m     CatBoostClassifier\u001b[38;5;241m.\u001b[39m_check_is_compatible_loss(params[\u001b[38;5;124m'\u001b[39m\u001b[38;5;124mloss_function\u001b[39m\u001b[38;5;124m'\u001b[39m])\n\u001b[1;32m-> 5245\u001b[0m \u001b[38;5;28;43mself\u001b[39;49m\u001b[38;5;241;43m.\u001b[39;49m\u001b[43m_fit\u001b[49m\u001b[43m(\u001b[49m\u001b[43mX\u001b[49m\u001b[43m,\u001b[49m\u001b[43m \u001b[49m\u001b[43my\u001b[49m\u001b[43m,\u001b[49m\u001b[43m \u001b[49m\u001b[43mcat_features\u001b[49m\u001b[43m,\u001b[49m\u001b[43m \u001b[49m\u001b[43mtext_features\u001b[49m\u001b[43m,\u001b[49m\u001b[43m \u001b[49m\u001b[43membedding_features\u001b[49m\u001b[43m,\u001b[49m\u001b[43m \u001b[49m\u001b[38;5;28;43;01mNone\u001b[39;49;00m\u001b[43m,\u001b[49m\u001b[43m \u001b[49m\u001b[43mgraph\u001b[49m\u001b[43m,\u001b[49m\u001b[43m \u001b[49m\u001b[43msample_weight\u001b[49m\u001b[43m,\u001b[49m\u001b[43m \u001b[49m\u001b[38;5;28;43;01mNone\u001b[39;49;00m\u001b[43m,\u001b[49m\u001b[43m \u001b[49m\u001b[38;5;28;43;01mNone\u001b[39;49;00m\u001b[43m,\u001b[49m\u001b[43m \u001b[49m\u001b[38;5;28;43;01mNone\u001b[39;49;00m\u001b[43m,\u001b[49m\u001b[43m \u001b[49m\u001b[38;5;28;43;01mNone\u001b[39;49;00m\u001b[43m,\u001b[49m\u001b[43m \u001b[49m\u001b[43mbaseline\u001b[49m\u001b[43m,\u001b[49m\u001b[43m \u001b[49m\u001b[43muse_best_model\u001b[49m\u001b[43m,\u001b[49m\n\u001b[0;32m   5246\u001b[0m \u001b[43m          \u001b[49m\u001b[43meval_set\u001b[49m\u001b[43m,\u001b[49m\u001b[43m \u001b[49m\u001b[43mverbose\u001b[49m\u001b[43m,\u001b[49m\u001b[43m \u001b[49m\u001b[43mlogging_level\u001b[49m\u001b[43m,\u001b[49m\u001b[43m \u001b[49m\u001b[43mplot\u001b[49m\u001b[43m,\u001b[49m\u001b[43m \u001b[49m\u001b[43mplot_file\u001b[49m\u001b[43m,\u001b[49m\u001b[43m \u001b[49m\u001b[43mcolumn_description\u001b[49m\u001b[43m,\u001b[49m\u001b[43m \u001b[49m\u001b[43mverbose_eval\u001b[49m\u001b[43m,\u001b[49m\u001b[43m \u001b[49m\u001b[43mmetric_period\u001b[49m\u001b[43m,\u001b[49m\n\u001b[0;32m   5247\u001b[0m \u001b[43m          \u001b[49m\u001b[43msilent\u001b[49m\u001b[43m,\u001b[49m\u001b[43m \u001b[49m\u001b[43mearly_stopping_rounds\u001b[49m\u001b[43m,\u001b[49m\u001b[43m \u001b[49m\u001b[43msave_snapshot\u001b[49m\u001b[43m,\u001b[49m\u001b[43m \u001b[49m\u001b[43msnapshot_file\u001b[49m\u001b[43m,\u001b[49m\u001b[43m \u001b[49m\u001b[43msnapshot_interval\u001b[49m\u001b[43m,\u001b[49m\u001b[43m \u001b[49m\u001b[43minit_model\u001b[49m\u001b[43m,\u001b[49m\u001b[43m \u001b[49m\u001b[43mcallbacks\u001b[49m\u001b[43m,\u001b[49m\u001b[43m \u001b[49m\u001b[43mlog_cout\u001b[49m\u001b[43m,\u001b[49m\u001b[43m \u001b[49m\u001b[43mlog_cerr\u001b[49m\u001b[43m)\u001b[49m\n\u001b[0;32m   5248\u001b[0m \u001b[38;5;28;01mreturn\u001b[39;00m \u001b[38;5;28mself\u001b[39m\n",
      "File \u001b[1;32mc:\\Users\\jackg\\AppData\\Local\\Programs\\Python\\Python312\\Lib\\site-packages\\catboost\\core.py:2395\u001b[0m, in \u001b[0;36mCatBoost._fit\u001b[1;34m(self, X, y, cat_features, text_features, embedding_features, pairs, graph, sample_weight, group_id, group_weight, subgroup_id, pairs_weight, baseline, use_best_model, eval_set, verbose, logging_level, plot, plot_file, column_description, verbose_eval, metric_period, silent, early_stopping_rounds, save_snapshot, snapshot_file, snapshot_interval, init_model, callbacks, log_cout, log_cerr)\u001b[0m\n\u001b[0;32m   2392\u001b[0m \u001b[38;5;28;01mif\u001b[39;00m y \u001b[38;5;129;01mis\u001b[39;00m \u001b[38;5;28;01mNone\u001b[39;00m \u001b[38;5;129;01mand\u001b[39;00m \u001b[38;5;129;01mnot\u001b[39;00m \u001b[38;5;28misinstance\u001b[39m(X, PATH_TYPES \u001b[38;5;241m+\u001b[39m (Pool,)):\n\u001b[0;32m   2393\u001b[0m     \u001b[38;5;28;01mraise\u001b[39;00m CatBoostError(\u001b[38;5;124m\"\u001b[39m\u001b[38;5;124my may be None only when X is an instance of catboost.Pool or string\u001b[39m\u001b[38;5;124m\"\u001b[39m)\n\u001b[1;32m-> 2395\u001b[0m train_params \u001b[38;5;241m=\u001b[39m \u001b[38;5;28;43mself\u001b[39;49m\u001b[38;5;241;43m.\u001b[39;49m\u001b[43m_prepare_train_params\u001b[49m\u001b[43m(\u001b[49m\n\u001b[0;32m   2396\u001b[0m \u001b[43m    \u001b[49m\u001b[43mX\u001b[49m\u001b[38;5;241;43m=\u001b[39;49m\u001b[43mX\u001b[49m\u001b[43m,\u001b[49m\u001b[43m \u001b[49m\u001b[43my\u001b[49m\u001b[38;5;241;43m=\u001b[39;49m\u001b[43my\u001b[49m\u001b[43m,\u001b[49m\u001b[43m \u001b[49m\u001b[43mcat_features\u001b[49m\u001b[38;5;241;43m=\u001b[39;49m\u001b[43mcat_features\u001b[49m\u001b[43m,\u001b[49m\u001b[43m \u001b[49m\u001b[43mtext_features\u001b[49m\u001b[38;5;241;43m=\u001b[39;49m\u001b[43mtext_features\u001b[49m\u001b[43m,\u001b[49m\u001b[43m \u001b[49m\u001b[43membedding_features\u001b[49m\u001b[38;5;241;43m=\u001b[39;49m\u001b[43membedding_features\u001b[49m\u001b[43m,\u001b[49m\n\u001b[0;32m   2397\u001b[0m \u001b[43m    \u001b[49m\u001b[43mpairs\u001b[49m\u001b[38;5;241;43m=\u001b[39;49m\u001b[43mpairs\u001b[49m\u001b[43m,\u001b[49m\u001b[43m \u001b[49m\u001b[43mgraph\u001b[49m\u001b[38;5;241;43m=\u001b[39;49m\u001b[43mgraph\u001b[49m\u001b[43m,\u001b[49m\u001b[43m \u001b[49m\u001b[43msample_weight\u001b[49m\u001b[38;5;241;43m=\u001b[39;49m\u001b[43msample_weight\u001b[49m\u001b[43m,\u001b[49m\u001b[43m \u001b[49m\u001b[43mgroup_id\u001b[49m\u001b[38;5;241;43m=\u001b[39;49m\u001b[43mgroup_id\u001b[49m\u001b[43m,\u001b[49m\u001b[43m \u001b[49m\u001b[43mgroup_weight\u001b[49m\u001b[38;5;241;43m=\u001b[39;49m\u001b[43mgroup_weight\u001b[49m\u001b[43m,\u001b[49m\n\u001b[0;32m   2398\u001b[0m \u001b[43m    \u001b[49m\u001b[43msubgroup_id\u001b[49m\u001b[38;5;241;43m=\u001b[39;49m\u001b[43msubgroup_id\u001b[49m\u001b[43m,\u001b[49m\u001b[43m \u001b[49m\u001b[43mpairs_weight\u001b[49m\u001b[38;5;241;43m=\u001b[39;49m\u001b[43mpairs_weight\u001b[49m\u001b[43m,\u001b[49m\u001b[43m \u001b[49m\u001b[43mbaseline\u001b[49m\u001b[38;5;241;43m=\u001b[39;49m\u001b[43mbaseline\u001b[49m\u001b[43m,\u001b[49m\u001b[43m \u001b[49m\u001b[43muse_best_model\u001b[49m\u001b[38;5;241;43m=\u001b[39;49m\u001b[43muse_best_model\u001b[49m\u001b[43m,\u001b[49m\n\u001b[0;32m   2399\u001b[0m \u001b[43m    \u001b[49m\u001b[43meval_set\u001b[49m\u001b[38;5;241;43m=\u001b[39;49m\u001b[43meval_set\u001b[49m\u001b[43m,\u001b[49m\u001b[43m \u001b[49m\u001b[43mverbose\u001b[49m\u001b[38;5;241;43m=\u001b[39;49m\u001b[43mverbose\u001b[49m\u001b[43m,\u001b[49m\u001b[43m \u001b[49m\u001b[43mlogging_level\u001b[49m\u001b[38;5;241;43m=\u001b[39;49m\u001b[43mlogging_level\u001b[49m\u001b[43m,\u001b[49m\u001b[43m \u001b[49m\u001b[43mplot\u001b[49m\u001b[38;5;241;43m=\u001b[39;49m\u001b[43mplot\u001b[49m\u001b[43m,\u001b[49m\u001b[43m \u001b[49m\u001b[43mplot_file\u001b[49m\u001b[38;5;241;43m=\u001b[39;49m\u001b[43mplot_file\u001b[49m\u001b[43m,\u001b[49m\n\u001b[0;32m   2400\u001b[0m \u001b[43m    \u001b[49m\u001b[43mcolumn_description\u001b[49m\u001b[38;5;241;43m=\u001b[39;49m\u001b[43mcolumn_description\u001b[49m\u001b[43m,\u001b[49m\u001b[43m \u001b[49m\u001b[43mverbose_eval\u001b[49m\u001b[38;5;241;43m=\u001b[39;49m\u001b[43mverbose_eval\u001b[49m\u001b[43m,\u001b[49m\u001b[43m \u001b[49m\u001b[43mmetric_period\u001b[49m\u001b[38;5;241;43m=\u001b[39;49m\u001b[43mmetric_period\u001b[49m\u001b[43m,\u001b[49m\n\u001b[0;32m   2401\u001b[0m \u001b[43m    \u001b[49m\u001b[43msilent\u001b[49m\u001b[38;5;241;43m=\u001b[39;49m\u001b[43msilent\u001b[49m\u001b[43m,\u001b[49m\u001b[43m \u001b[49m\u001b[43mearly_stopping_rounds\u001b[49m\u001b[38;5;241;43m=\u001b[39;49m\u001b[43mearly_stopping_rounds\u001b[49m\u001b[43m,\u001b[49m\u001b[43m \u001b[49m\u001b[43msave_snapshot\u001b[49m\u001b[38;5;241;43m=\u001b[39;49m\u001b[43msave_snapshot\u001b[49m\u001b[43m,\u001b[49m\n\u001b[0;32m   2402\u001b[0m \u001b[43m    \u001b[49m\u001b[43msnapshot_file\u001b[49m\u001b[38;5;241;43m=\u001b[39;49m\u001b[43msnapshot_file\u001b[49m\u001b[43m,\u001b[49m\u001b[43m \u001b[49m\u001b[43msnapshot_interval\u001b[49m\u001b[38;5;241;43m=\u001b[39;49m\u001b[43msnapshot_interval\u001b[49m\u001b[43m,\u001b[49m\u001b[43m \u001b[49m\u001b[43minit_model\u001b[49m\u001b[38;5;241;43m=\u001b[39;49m\u001b[43minit_model\u001b[49m\u001b[43m,\u001b[49m\n\u001b[0;32m   2403\u001b[0m \u001b[43m    \u001b[49m\u001b[43mcallbacks\u001b[49m\u001b[38;5;241;43m=\u001b[39;49m\u001b[43mcallbacks\u001b[49m\n\u001b[0;32m   2404\u001b[0m \u001b[43m\u001b[49m\u001b[43m)\u001b[49m\n\u001b[0;32m   2405\u001b[0m params \u001b[38;5;241m=\u001b[39m train_params[\u001b[38;5;124m\"\u001b[39m\u001b[38;5;124mparams\u001b[39m\u001b[38;5;124m\"\u001b[39m]\n\u001b[0;32m   2406\u001b[0m train_pool \u001b[38;5;241m=\u001b[39m train_params[\u001b[38;5;124m\"\u001b[39m\u001b[38;5;124mtrain_pool\u001b[39m\u001b[38;5;124m\"\u001b[39m]\n",
      "File \u001b[1;32mc:\\Users\\jackg\\AppData\\Local\\Programs\\Python\\Python312\\Lib\\site-packages\\catboost\\core.py:2275\u001b[0m, in \u001b[0;36mCatBoost._prepare_train_params\u001b[1;34m(self, X, y, cat_features, text_features, embedding_features, pairs, graph, sample_weight, group_id, group_weight, subgroup_id, pairs_weight, baseline, use_best_model, eval_set, verbose, logging_level, plot, plot_file, column_description, verbose_eval, metric_period, silent, early_stopping_rounds, save_snapshot, snapshot_file, snapshot_interval, init_model, callbacks)\u001b[0m\n\u001b[0;32m   2272\u001b[0m text_features \u001b[38;5;241m=\u001b[39m _process_feature_indices(text_features, X, params, \u001b[38;5;124m'\u001b[39m\u001b[38;5;124mtext_features\u001b[39m\u001b[38;5;124m'\u001b[39m)\n\u001b[0;32m   2273\u001b[0m embedding_features \u001b[38;5;241m=\u001b[39m _process_feature_indices(embedding_features, X, params, \u001b[38;5;124m'\u001b[39m\u001b[38;5;124membedding_features\u001b[39m\u001b[38;5;124m'\u001b[39m)\n\u001b[1;32m-> 2275\u001b[0m train_pool \u001b[38;5;241m=\u001b[39m \u001b[43m_build_train_pool\u001b[49m\u001b[43m(\u001b[49m\u001b[43mX\u001b[49m\u001b[43m,\u001b[49m\u001b[43m \u001b[49m\u001b[43my\u001b[49m\u001b[43m,\u001b[49m\u001b[43m \u001b[49m\u001b[43mcat_features\u001b[49m\u001b[43m,\u001b[49m\u001b[43m \u001b[49m\u001b[43mtext_features\u001b[49m\u001b[43m,\u001b[49m\u001b[43m \u001b[49m\u001b[43membedding_features\u001b[49m\u001b[43m,\u001b[49m\u001b[43m \u001b[49m\u001b[43mpairs\u001b[49m\u001b[43m,\u001b[49m\u001b[43m \u001b[49m\u001b[43mgraph\u001b[49m\u001b[43m,\u001b[49m\n\u001b[0;32m   2276\u001b[0m \u001b[43m                               \u001b[49m\u001b[43msample_weight\u001b[49m\u001b[43m,\u001b[49m\u001b[43m \u001b[49m\u001b[43mgroup_id\u001b[49m\u001b[43m,\u001b[49m\u001b[43m \u001b[49m\u001b[43mgroup_weight\u001b[49m\u001b[43m,\u001b[49m\u001b[43m \u001b[49m\u001b[43msubgroup_id\u001b[49m\u001b[43m,\u001b[49m\u001b[43m \u001b[49m\u001b[43mpairs_weight\u001b[49m\u001b[43m,\u001b[49m\n\u001b[0;32m   2277\u001b[0m \u001b[43m                               \u001b[49m\u001b[43mbaseline\u001b[49m\u001b[43m,\u001b[49m\u001b[43m \u001b[49m\u001b[43mcolumn_description\u001b[49m\u001b[43m)\u001b[49m\n\u001b[0;32m   2278\u001b[0m \u001b[38;5;28;01mif\u001b[39;00m train_pool\u001b[38;5;241m.\u001b[39mis_empty_:\n\u001b[0;32m   2279\u001b[0m     \u001b[38;5;28;01mraise\u001b[39;00m CatBoostError(\u001b[38;5;124m\"\u001b[39m\u001b[38;5;124mX is empty.\u001b[39m\u001b[38;5;124m\"\u001b[39m)\n",
      "File \u001b[1;32mc:\\Users\\jackg\\AppData\\Local\\Programs\\Python\\Python312\\Lib\\site-packages\\catboost\\core.py:1513\u001b[0m, in \u001b[0;36m_build_train_pool\u001b[1;34m(X, y, cat_features, text_features, embedding_features, pairs, graph, sample_weight, group_id, group_weight, subgroup_id, pairs_weight, baseline, column_description)\u001b[0m\n\u001b[0;32m   1511\u001b[0m     \u001b[38;5;28;01mif\u001b[39;00m y \u001b[38;5;129;01mis\u001b[39;00m \u001b[38;5;28;01mNone\u001b[39;00m:\n\u001b[0;32m   1512\u001b[0m         \u001b[38;5;28;01mraise\u001b[39;00m CatBoostError(\u001b[38;5;124m\"\u001b[39m\u001b[38;5;124my has not initialized in fit(): X is not catboost.Pool object, y must be not None in fit().\u001b[39m\u001b[38;5;124m\"\u001b[39m)\n\u001b[1;32m-> 1513\u001b[0m     train_pool \u001b[38;5;241m=\u001b[39m \u001b[43mPool\u001b[49m\u001b[43m(\u001b[49m\u001b[43mX\u001b[49m\u001b[43m,\u001b[49m\u001b[43m \u001b[49m\u001b[43my\u001b[49m\u001b[43m,\u001b[49m\u001b[43m \u001b[49m\u001b[43mcat_features\u001b[49m\u001b[38;5;241;43m=\u001b[39;49m\u001b[43mcat_features\u001b[49m\u001b[43m,\u001b[49m\u001b[43m \u001b[49m\u001b[43mtext_features\u001b[49m\u001b[38;5;241;43m=\u001b[39;49m\u001b[43mtext_features\u001b[49m\u001b[43m,\u001b[49m\u001b[43m \u001b[49m\u001b[43membedding_features\u001b[49m\u001b[38;5;241;43m=\u001b[39;49m\u001b[43membedding_features\u001b[49m\u001b[43m,\u001b[49m\u001b[43m \u001b[49m\u001b[43mpairs\u001b[49m\u001b[38;5;241;43m=\u001b[39;49m\u001b[43mpairs\u001b[49m\u001b[43m,\u001b[49m\u001b[43m \u001b[49m\u001b[43mgraph\u001b[49m\u001b[38;5;241;43m=\u001b[39;49m\u001b[43mgraph\u001b[49m\u001b[43m,\u001b[49m\u001b[43m \u001b[49m\u001b[43mweight\u001b[49m\u001b[38;5;241;43m=\u001b[39;49m\u001b[43msample_weight\u001b[49m\u001b[43m,\u001b[49m\u001b[43m \u001b[49m\u001b[43mgroup_id\u001b[49m\u001b[38;5;241;43m=\u001b[39;49m\u001b[43mgroup_id\u001b[49m\u001b[43m,\u001b[49m\n\u001b[0;32m   1514\u001b[0m \u001b[43m                      \u001b[49m\u001b[43mgroup_weight\u001b[49m\u001b[38;5;241;43m=\u001b[39;49m\u001b[43mgroup_weight\u001b[49m\u001b[43m,\u001b[49m\u001b[43m \u001b[49m\u001b[43msubgroup_id\u001b[49m\u001b[38;5;241;43m=\u001b[39;49m\u001b[43msubgroup_id\u001b[49m\u001b[43m,\u001b[49m\u001b[43m \u001b[49m\u001b[43mpairs_weight\u001b[49m\u001b[38;5;241;43m=\u001b[39;49m\u001b[43mpairs_weight\u001b[49m\u001b[43m,\u001b[49m\u001b[43m \u001b[49m\u001b[43mbaseline\u001b[49m\u001b[38;5;241;43m=\u001b[39;49m\u001b[43mbaseline\u001b[49m\u001b[43m)\u001b[49m\n\u001b[0;32m   1515\u001b[0m \u001b[38;5;28;01mreturn\u001b[39;00m train_pool\n",
      "File \u001b[1;32mc:\\Users\\jackg\\AppData\\Local\\Programs\\Python\\Python312\\Lib\\site-packages\\catboost\\core.py:855\u001b[0m, in \u001b[0;36mPool.__init__\u001b[1;34m(self, data, label, cat_features, text_features, embedding_features, embedding_features_data, column_description, pairs, graph, delimiter, has_header, ignore_csv_quoting, weight, group_id, group_weight, subgroup_id, pairs_weight, baseline, timestamp, feature_names, feature_tags, thread_count, log_cout, log_cerr, data_can_be_none)\u001b[0m\n\u001b[0;32m    849\u001b[0m         \u001b[38;5;28;01mif\u001b[39;00m \u001b[38;5;28misinstance\u001b[39m(feature_names, PATH_TYPES):\n\u001b[0;32m    850\u001b[0m             \u001b[38;5;28;01mraise\u001b[39;00m CatBoostError(\n\u001b[0;32m    851\u001b[0m                 \u001b[38;5;124m\"\u001b[39m\u001b[38;5;124mfeature_names must be None or have non-string type when the pool is created from \u001b[39m\u001b[38;5;124m\"\u001b[39m\n\u001b[0;32m    852\u001b[0m                 \u001b[38;5;124m\"\u001b[39m\u001b[38;5;124mpython objects.\u001b[39m\u001b[38;5;124m\"\u001b[39m\n\u001b[0;32m    853\u001b[0m             )\n\u001b[1;32m--> 855\u001b[0m         \u001b[38;5;28;43mself\u001b[39;49m\u001b[38;5;241;43m.\u001b[39;49m\u001b[43m_init\u001b[49m\u001b[43m(\u001b[49m\u001b[43mdata\u001b[49m\u001b[43m,\u001b[49m\u001b[43m \u001b[49m\u001b[43mlabel\u001b[49m\u001b[43m,\u001b[49m\u001b[43m \u001b[49m\u001b[43mcat_features\u001b[49m\u001b[43m,\u001b[49m\u001b[43m \u001b[49m\u001b[43mtext_features\u001b[49m\u001b[43m,\u001b[49m\u001b[43m \u001b[49m\u001b[43membedding_features\u001b[49m\u001b[43m,\u001b[49m\u001b[43m \u001b[49m\u001b[43membedding_features_data\u001b[49m\u001b[43m,\u001b[49m\u001b[43m \u001b[49m\u001b[43mpairs\u001b[49m\u001b[43m,\u001b[49m\u001b[43m \u001b[49m\u001b[43mgraph\u001b[49m\u001b[43m,\u001b[49m\u001b[43m \u001b[49m\u001b[43mweight\u001b[49m\u001b[43m,\u001b[49m\n\u001b[0;32m    856\u001b[0m \u001b[43m                   \u001b[49m\u001b[43mgroup_id\u001b[49m\u001b[43m,\u001b[49m\u001b[43m \u001b[49m\u001b[43mgroup_weight\u001b[49m\u001b[43m,\u001b[49m\u001b[43m \u001b[49m\u001b[43msubgroup_id\u001b[49m\u001b[43m,\u001b[49m\u001b[43m \u001b[49m\u001b[43mpairs_weight\u001b[49m\u001b[43m,\u001b[49m\u001b[43m \u001b[49m\u001b[43mbaseline\u001b[49m\u001b[43m,\u001b[49m\u001b[43m \u001b[49m\u001b[43mtimestamp\u001b[49m\u001b[43m,\u001b[49m\u001b[43m \u001b[49m\u001b[43mfeature_names\u001b[49m\u001b[43m,\u001b[49m\u001b[43m \u001b[49m\u001b[43mfeature_tags\u001b[49m\u001b[43m,\u001b[49m\u001b[43m \u001b[49m\u001b[43mthread_count\u001b[49m\u001b[43m)\u001b[49m\n\u001b[0;32m    857\u001b[0m \u001b[38;5;28;01melif\u001b[39;00m \u001b[38;5;129;01mnot\u001b[39;00m data_can_be_none:\n\u001b[0;32m    858\u001b[0m     \u001b[38;5;28;01mraise\u001b[39;00m CatBoostError(\u001b[38;5;124m\"\u001b[39m\u001b[38;5;124m'\u001b[39m\u001b[38;5;124mdata\u001b[39m\u001b[38;5;124m'\u001b[39m\u001b[38;5;124m parameter can\u001b[39m\u001b[38;5;124m'\u001b[39m\u001b[38;5;124mt be None\u001b[39m\u001b[38;5;124m\"\u001b[39m)\n",
      "File \u001b[1;32mc:\\Users\\jackg\\AppData\\Local\\Programs\\Python\\Python312\\Lib\\site-packages\\catboost\\core.py:1491\u001b[0m, in \u001b[0;36mPool._init\u001b[1;34m(self, data, label, cat_features, text_features, embedding_features, embedding_features_data, pairs, graph, weight, group_id, group_weight, subgroup_id, pairs_weight, baseline, timestamp, feature_names, feature_tags, thread_count)\u001b[0m\n\u001b[0;32m   1489\u001b[0m \u001b[38;5;28;01mif\u001b[39;00m feature_tags \u001b[38;5;129;01mis\u001b[39;00m \u001b[38;5;129;01mnot\u001b[39;00m \u001b[38;5;28;01mNone\u001b[39;00m:\n\u001b[0;32m   1490\u001b[0m     feature_tags \u001b[38;5;241m=\u001b[39m \u001b[38;5;28mself\u001b[39m\u001b[38;5;241m.\u001b[39m_check_transform_tags(feature_tags, feature_names)\n\u001b[1;32m-> 1491\u001b[0m \u001b[38;5;28;43mself\u001b[39;49m\u001b[38;5;241;43m.\u001b[39;49m\u001b[43m_init_pool\u001b[49m\u001b[43m(\u001b[49m\u001b[43mdata\u001b[49m\u001b[43m,\u001b[49m\u001b[43m \u001b[49m\u001b[43mlabel\u001b[49m\u001b[43m,\u001b[49m\u001b[43m \u001b[49m\u001b[43mcat_features\u001b[49m\u001b[43m,\u001b[49m\u001b[43m \u001b[49m\u001b[43mtext_features\u001b[49m\u001b[43m,\u001b[49m\u001b[43m \u001b[49m\u001b[43membedding_features\u001b[49m\u001b[43m,\u001b[49m\u001b[43m \u001b[49m\u001b[43membedding_features_data\u001b[49m\u001b[43m,\u001b[49m\u001b[43m \u001b[49m\u001b[43mpairs\u001b[49m\u001b[43m,\u001b[49m\u001b[43m \u001b[49m\u001b[43mgraph\u001b[49m\u001b[43m,\u001b[49m\u001b[43m \u001b[49m\u001b[43mweight\u001b[49m\u001b[43m,\u001b[49m\n\u001b[0;32m   1492\u001b[0m \u001b[43m                \u001b[49m\u001b[43mgroup_id\u001b[49m\u001b[43m,\u001b[49m\u001b[43m \u001b[49m\u001b[43mgroup_weight\u001b[49m\u001b[43m,\u001b[49m\u001b[43m \u001b[49m\u001b[43msubgroup_id\u001b[49m\u001b[43m,\u001b[49m\u001b[43m \u001b[49m\u001b[43mpairs_weight\u001b[49m\u001b[43m,\u001b[49m\u001b[43m \u001b[49m\u001b[43mbaseline\u001b[49m\u001b[43m,\u001b[49m\u001b[43m \u001b[49m\u001b[43mtimestamp\u001b[49m\u001b[43m,\u001b[49m\u001b[43m \u001b[49m\u001b[43mfeature_names\u001b[49m\u001b[43m,\u001b[49m\u001b[43m \u001b[49m\u001b[43mfeature_tags\u001b[49m\u001b[43m,\u001b[49m\u001b[43m \u001b[49m\u001b[43mthread_count\u001b[49m\u001b[43m)\u001b[49m\n",
      "File \u001b[1;32m_catboost.pyx:4339\u001b[0m, in \u001b[0;36m_catboost._PoolBase._init_pool\u001b[1;34m()\u001b[0m\n",
      "File \u001b[1;32m_catboost.pyx:4391\u001b[0m, in \u001b[0;36m_catboost._PoolBase._init_pool\u001b[1;34m()\u001b[0m\n",
      "File \u001b[1;32m_catboost.pyx:4200\u001b[0m, in \u001b[0;36m_catboost._PoolBase._init_features_order_layout_pool\u001b[1;34m()\u001b[0m\n",
      "File \u001b[1;32m_catboost.pyx:3083\u001b[0m, in \u001b[0;36m_catboost._set_features_order_data_pd_data_frame\u001b[1;34m()\u001b[0m\n",
      "\u001b[1;31mCatBoostError\u001b[0m: features data: pandas.DataFrame column 'person_age' has dtype 'category' but is not in  cat_features list"
     ]
    }
   ],
   "source": [
    "\n",
    "import catboost\n",
    "from catboost import Pool\n",
    "train_data = train_data.apply(lambda x: x.astype('category')).drop(\"Unnamed: 0\", axis = 1)\n",
    "X_train_pool = Pool(X_train, y_train, cat_features=X_train.columns.values)\n",
    "X_valid_pool = Pool(X_valid, y_valid, cat_features=X_valid.columns.values)\n",
    "X_test_pool = Pool(X_test, cat_features=X_test.columns.values)\n",
    "test_data = test_data.apply(lambda x: x.astype('category')).drop(\"Unnamed: 0\", axis = 1)\n",
    "model = catboost.CatBoostClassifier(loss_function =\"Logloss\", verbose=0)\n",
    "\n",
    "val = train_and_test_model(train_data, model, print_info = False)"
   ]
  },
  {
   "cell_type": "code",
   "execution_count": 25,
   "metadata": {},
   "outputs": [],
   "source": [
    "test_predictions_cat_boost = model.predict_proba(test_data.drop(\"id\", axis = 1))[:, 1]\n",
    "test_predictions_df = pd.DataFrame({\"id\": test_data[\"id\"], \"loan_status\" : test_predictions_cat_boost})\n",
    "test_predictions_df.to_csv(\"../Data/sample_submission.csv\", index = False)"
   ]
  },
  {
   "cell_type": "code",
   "execution_count": 34,
   "metadata": {},
   "outputs": [
    {
     "data": {
      "text/plain": [
       "Index(['Unnamed: 0', 'person_age', 'person_income', 'person_emp_length',\n",
       "       'loan_amnt', 'loan_int_rate', 'loan_percent_income',\n",
       "       'cb_person_cred_hist_length', 'loan_status',\n",
       "       'person_home_ownership_OTHER', 'person_home_ownership_OWN',\n",
       "       'person_home_ownership_RENT', 'loan_intent_EDUCATION',\n",
       "       'loan_intent_HOMEIMPROVEMENT', 'loan_intent_MEDICAL',\n",
       "       'loan_intent_PERSONAL', 'loan_intent_VENTURE', 'loan_grade_B',\n",
       "       'loan_grade_C', 'loan_grade_D', 'loan_grade_E', 'loan_grade_F',\n",
       "       'loan_grade_G', 'cb_person_default_on_file_Y', 'income_per_year_emp',\n",
       "       'risk_flag', 'utilsation', 'own_home_and_use_loan_for_h_i',\n",
       "       'int_per_y_cred', 'loan_per_y_cred'],\n",
       "      dtype='object')"
      ]
     },
     "execution_count": 34,
     "metadata": {},
     "output_type": "execute_result"
    },
    {
     "data": {
      "image/png": "[encoded data removed]",
      "text/plain": [
       "<Figure size 640x480 with 1 Axes>"
      ]
     },
     "metadata": {},
     "output_type": "display_data"
    }
   ],
   "source": [
    "xgb.plot_importance(best_model)\n",
    "train_data.columns"
   ]
  },
  {
   "cell_type": "code",
   "execution_count": 35,
   "metadata": {},
   "outputs": [],
   "source": [
    "test_predictions = 0.6*test_predictions_cat_boost + 0.4 *test_predictions_xgboost3\n",
    "test_predictions_df = pd.DataFrame({\"id\": test_data[\"id\"], \"loan_status\" : test_predictions})\n",
    "test_predictions_df.to_csv(\"../Data/sample_submission.csv\", index = False)"
   ]
  }
 ],
 "metadata": {
  "kernelspec": {
   "display_name": "Python 3",
   "language": "python",
   "name": "python3"
  },
  "language_info": {
   "codemirror_mode": {
    "name": "ipython",
    "version": 3
   },
   "file_extension": ".py",
   "mimetype": "text/x-python",
   "name": "python",
   "nbconvert_exporter": "python",
   "pygments_lexer": "ipython3",
   "version": "3.12.5"
  }
 },
 "nbformat": 4,
 "nbformat_minor": 2
}
