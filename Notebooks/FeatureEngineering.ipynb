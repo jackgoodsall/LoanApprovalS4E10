{
 "cells": [
  {
   "cell_type": "markdown",
   "metadata": {},
   "source": [
    "# Feature Engineering"
   ]
  },
  {
   "cell_type": "markdown",
   "metadata": {},
   "source": [
    "As we have no duplicates or null values we can just directly import the dataset again and do ur feature engineering from there."
   ]
  },
  {
   "cell_type": "code",
   "execution_count": 11,
   "metadata": {},
   "outputs": [],
   "source": [
    "import pandas as pd\n",
    "from sklearn.preprocessing import StandardScaler\n",
    "import numpy  as np\n",
    "DATA_DIR = \"../Data/\"\n",
    "\n",
    "train_data = pd.read_csv(DATA_DIR +\"train.csv\")\n",
    "test_data = pd.read_csv(DATA_DIR + \"test.csv\")\n",
    "\n",
    "\n",
    "\n",
    "def preprocess_data(train_data : pd.DataFrame, test_data : pd.DataFrame) -> pd.DataFrame:\n",
    "    # Function for preprocessing data\n",
    "    # Drop id\n",
    "    train_data.drop(\"id\",axis = 1, inplace = True)\n",
    "\n",
    "    # Get column types\n",
    "    numerical_columns = list(train_data.select_dtypes(exclude=[\"object\"]).columns)\n",
    "    cat_columns = list(train_data.select_dtypes(include=\"object\").columns)\n",
    "    test_numerical_columns = list(test_data.select_dtypes(exclude=[\"object\"]).columns)\n",
    "    \n",
    "    # Encode cat data with one hot encoding\n",
    "    train_data = pd.get_dummies(train_data, cat_columns, drop_first= True, dtype = int)\n",
    "    test_data = pd.get_dummies(test_data, cat_columns, drop_first= True, dtype = int)\n",
    "\n",
    "    return train_data, test_data\n"
   ]
  },
  {
   "cell_type": "code",
   "execution_count": 12,
   "metadata": {},
   "outputs": [],
   "source": [
    "def feature_engineer(train_data :pd.DataFrame, test_data : pd.DataFrame) -> pd.DataFrame:\n",
    "    '''\n",
    "    Function for engineering new features into the data frames\n",
    "\n",
    "    '''\n",
    "\n",
    "    # Create new feature for income per year of employment\n",
    "    train_data[\"income_per_year_emp\"] = train_data[\"person_income\"] / ( 1 + train_data[\"person_emp_length\"])\n",
    "    test_data[\"income_per_year_emp\"] = test_data[\"person_income\"] / ( 1 + test_data[\"person_emp_length\"])\n",
    "    # Creat a risk flag feature\n",
    "    train_data[\"risk_flag\"] = np.where((train_data[\"cb_person_default_on_file_Y\"] == 1) & ((train_data[\"loan_grade_C\"] ==1) | (train_data[\"loan_grade_D\"] ==1) |(train_data[\"loan_grade_E\"] ==1)) ,1, 0)\n",
    "    test_data[\"risk_flag\"] = np.where((test_data[\"cb_person_default_on_file_Y\"] == 1) & ((test_data[\"loan_grade_C\"] ==1) | (test_data[\"loan_grade_D\"] ==1) |(test_data[\"loan_grade_E\"] ==1) ) ,1 ,0)\n",
    "    # Create loan utalisation as loan amout * int / person income\n",
    "    train_data[\"utilsation\"] = ((1 + train_data[\"loan_int_rate\"] /100)  * train_data[\"loan_amnt\"])  / train_data[\"person_income\"]\n",
    "    test_data[\"utilsation\"] = ((1 + test_data[\"loan_int_rate\"] /100) * test_data[\"loan_amnt\"])  / test_data[\"person_income\"]\n",
    "    # Create feature for owning home and using loan for home improvement\n",
    "    train_data[\"own_home_and_use_loan_for_h_i\"] = (train_data[\"person_home_ownership_OWN\"] & train_data[\"loan_intent_HOMEIMPROVEMENT\"])\n",
    "    test_data[\"own_home_and_use_loan_for_h_i\"] = (test_data[\"person_home_ownership_OWN\"] & test_data[\"loan_intent_HOMEIMPROVEMENT\"])\n",
    "    # Create new features for loan per credit history and loan per int\n",
    "    train_data[\"int_per_y_cred\"] = train_data[\"loan_int_rate\"] / (1 +train_data[\"cb_person_cred_hist_length\"])\n",
    "    train_data[\"loan_per_y_cred\"] = train_data[\"loan_amnt\"] / (1 +train_data[\"cb_person_cred_hist_length\"])\n",
    "    test_data[\"int_per_y_cred\"] = test_data[\"loan_int_rate\"] / (1 +test_data[\"cb_person_cred_hist_length\"])\n",
    "    test_data[\"loan_per_y_cred\"] = test_data[\"loan_amnt\"] / (1 +test_data[\"cb_person_cred_hist_length\"])\n",
    "                                 \n",
    "    return train_data, test_data"
   ]
  },
  {
   "cell_type": "code",
   "execution_count": 13,
   "metadata": {},
   "outputs": [],
   "source": [
    "preprocessed_train, preprocessted_test = preprocess_data(train_data, test_data)\n",
    "\n",
    "eng_train, eng_test = feature_engineer(preprocessed_train, preprocessted_test)\n",
    "\n",
    "eng_train.to_csv(\"../Data/processed_train.csv\")\n",
    "eng_test.to_csv(\"../Data/processed_test.csv\")"
   ]
  },
  {
   "cell_type": "code",
   "execution_count": 14,
   "metadata": {},
   "outputs": [
    {
     "name": "stdout",
     "output_type": "stream",
     "text": [
      "<class 'pandas.core.frame.DataFrame'>\n",
      "RangeIndex: 58645 entries, 0 to 58644\n",
      "Data columns (total 29 columns):\n",
      " #   Column                         Non-Null Count  Dtype  \n",
      "---  ------                         --------------  -----  \n",
      " 0   person_age                     58645 non-null  int64  \n",
      " 1   person_income                  58645 non-null  int64  \n",
      " 2   person_emp_length              58645 non-null  float64\n",
      " 3   loan_amnt                      58645 non-null  int64  \n",
      " 4   loan_int_rate                  58645 non-null  float64\n",
      " 5   loan_percent_income            58645 non-null  float64\n",
      " 6   cb_person_cred_hist_length     58645 non-null  int64  \n",
      " 7   loan_status                    58645 non-null  int64  \n",
      " 8   person_home_ownership_OTHER    58645 non-null  int32  \n",
      " 9   person_home_ownership_OWN      58645 non-null  int32  \n",
      " 10  person_home_ownership_RENT     58645 non-null  int32  \n",
      " 11  loan_intent_EDUCATION          58645 non-null  int32  \n",
      " 12  loan_intent_HOMEIMPROVEMENT    58645 non-null  int32  \n",
      " 13  loan_intent_MEDICAL            58645 non-null  int32  \n",
      " 14  loan_intent_PERSONAL           58645 non-null  int32  \n",
      " 15  loan_intent_VENTURE            58645 non-null  int32  \n",
      " 16  loan_grade_B                   58645 non-null  int32  \n",
      " 17  loan_grade_C                   58645 non-null  int32  \n",
      " 18  loan_grade_D                   58645 non-null  int32  \n",
      " 19  loan_grade_E                   58645 non-null  int32  \n",
      " 20  loan_grade_F                   58645 non-null  int32  \n",
      " 21  loan_grade_G                   58645 non-null  int32  \n",
      " 22  cb_person_default_on_file_Y    58645 non-null  int32  \n",
      " 23  income_per_year_emp            58645 non-null  float64\n",
      " 24  risk_flag                      58645 non-null  int32  \n",
      " 25  utilsation                     58645 non-null  float64\n",
      " 26  own_home_and_use_loan_for_h_i  58645 non-null  int32  \n",
      " 27  int_per_y_cred                 58645 non-null  float64\n",
      " 28  loan_per_y_cred                58645 non-null  float64\n",
      "dtypes: float64(7), int32(17), int64(5)\n",
      "memory usage: 9.2 MB\n"
     ]
    }
   ],
   "source": [
    "preprocessed_train.info()"
   ]
  },
  {
   "cell_type": "code",
   "execution_count": 15,
   "metadata": {},
   "outputs": [
    {
     "name": "stdout",
     "output_type": "stream",
     "text": [
      "Index(['person_age', 'person_income', 'person_emp_length', 'loan_amnt',\n",
      "       'loan_int_rate', 'loan_percent_income', 'cb_person_cred_hist_length',\n",
      "       'loan_status', 'person_home_ownership_OTHER',\n",
      "       'person_home_ownership_OWN', 'person_home_ownership_RENT',\n",
      "       'loan_intent_EDUCATION', 'loan_intent_HOMEIMPROVEMENT',\n",
      "       'loan_intent_MEDICAL', 'loan_intent_PERSONAL', 'loan_intent_VENTURE',\n",
      "       'loan_grade_B', 'loan_grade_C', 'loan_grade_D', 'loan_grade_E',\n",
      "       'loan_grade_F', 'loan_grade_G', 'cb_person_default_on_file_Y',\n",
      "       'income_per_year_emp', 'risk_flag', 'utilsation',\n",
      "       'own_home_and_use_loan_for_h_i', 'int_per_y_cred', 'loan_per_y_cred'],\n",
      "      dtype='object')\n"
     ]
    }
   ],
   "source": [
    "print(eng_train.columns)"
   ]
  }
 ],
 "metadata": {
  "kernelspec": {
   "display_name": "Python 3",
   "language": "python",
   "name": "python3"
  },
  "language_info": {
   "codemirror_mode": {
    "name": "ipython",
    "version": 3
   },
   "file_extension": ".py",
   "mimetype": "text/x-python",
   "name": "python",
   "nbconvert_exporter": "python",
   "pygments_lexer": "ipython3",
   "version": "3.12.5"
  }
 },
 "nbformat": 4,
 "nbformat_minor": 2
}
