{
 "cells": [
  {
   "cell_type": "markdown",
   "metadata": {},
   "source": [
    "# Feature Engineering"
   ]
  },
  {
   "cell_type": "markdown",
   "metadata": {},
   "source": [
    "As we have no duplicates or null values we can just directly import the dataset again and do ur feature engineering from there."
   ]
  },
  {
   "cell_type": "code",
   "execution_count": 50,
   "metadata": {},
   "outputs": [],
   "source": [
    "import pandas as pd\n",
    "from sklearn.preprocessing import StandardScaler\n",
    "\n",
    "DATA_DIR = \"../Data/\"\n",
    "\n",
    "train_data = pd.read_csv(DATA_DIR +\"train.csv\")\n",
    "test_data = pd.read_csv(DATA_DIR + \"test.csv\")\n",
    "\n",
    "\n",
    "\n",
    "def preprocess_data(train_data : pd.DataFrame, test_data : pd.DataFrame) -> pd.DataFrame:\n",
    "    # Function for preprocessing data\n",
    "    # Drop id\n",
    "    train_data.drop(\"id\",axis = 1, inplace = True)\n",
    "    test_data.drop(\"id\", axis = 1, inplace = True)\n",
    "\n",
    "    # Get column types\n",
    "    numerical_columns = list(train_data.select_dtypes(exclude=[\"object\"]).columns)\n",
    "    cat_columns = list(train_data.select_dtypes(include=\"object\").columns)\n",
    "    test_numerical_columns = list(test_data.select_dtypes(exclude=[\"object\"]).columns)\n",
    "    \n",
    "    # Encode cat data with one hot encoding\n",
    "    train_data = pd.get_dummies(train_data, cat_columns, drop_first= True, dtype = int)\n",
    "    test_data = pd.get_dummies(test_data, cat_columns, drop_first= True, dtype = int)\n",
    "\n",
    "    return train_data, test_data"
   ]
  },
  {
   "cell_type": "code",
   "execution_count": 51,
   "metadata": {},
   "outputs": [],
   "source": [
    "def feature_engineer(train_data :pd.DataFrame, test_data : pd.DataFrame) -> pd.DataFrame:\n",
    "    '''\n",
    "    Function for engineering new features into the data frames\n",
    "\n",
    "    '''\n",
    "\n",
    "    train_data[\"income_per_year_emp\"] = train_data[\"person_income\"] / ( 1 + train_data[\"person_emp_length\"])\n",
    "    test_data[\"income_per_year_emp\"] = test_data[\"person_income\"] / ( 1 + test_data[\"person_emp_length\"])\n",
    "\n",
    "    return train_data, test_data"
   ]
  },
  {
   "cell_type": "code",
   "execution_count": 52,
   "metadata": {},
   "outputs": [],
   "source": [
    "preprocessed_train, preprocessted_test = preprocess_data(train_data, test_data)\n",
    "eng_train, eng_test = feature_engineer(preprocessed_train, preprocessted_test)\n",
    "\n",
    "eng_train.to_csv(\"../Data/processed_train.csv\")\n",
    "eng_test.to_csv(\"../Data/processed_test.csv\")"
   ]
  }
 ],
 "metadata": {
  "kernelspec": {
   "display_name": "Python 3",
   "language": "python",
   "name": "python3"
  },
  "language_info": {
   "codemirror_mode": {
    "name": "ipython",
    "version": 3
   },
   "file_extension": ".py",
   "mimetype": "text/x-python",
   "name": "python",
   "nbconvert_exporter": "python",
   "pygments_lexer": "ipython3",
   "version": "3.12.5"
  }
 },
 "nbformat": 4,
 "nbformat_minor": 2
}
